{
 "cells": [
  {
   "cell_type": "code",
   "execution_count": 1,
   "id": "81614d5d",
   "metadata": {},
   "outputs": [
    {
     "data": {
      "text/plain": [
       "true"
      ]
     },
     "execution_count": 1,
     "metadata": {},
     "output_type": "execute_result"
    }
   ],
   "source": [
    "using PyPlot\n",
    "using JLD\n",
    "using LinearAlgebra\n",
    "using SparseArrays\n",
    "using BenchmarkTools\n",
    "import Base.Threads: nthreads, @spawn\n",
    "using LoopVectorization\n",
    "\n",
    "nthreads()"
   ]
  },
  {
   "cell_type": "code",
   "execution_count": 18,
   "id": "805046da",
   "metadata": {},
   "outputs": [
    {
     "data": {
      "text/plain": [
       "7531:10000"
      ]
     },
     "execution_count": 18,
     "metadata": {},
     "output_type": "execute_result"
    }
   ],
   "source": [
    "function k(X,x,sigma)\n",
    "    s = zero(eltype(x))\n",
    "    @simd for i in eachindex(x,X)\n",
    "            s += (X[i] - x[i])^2\n",
    "        end\n",
    "    return exp(-s/sigma^2)\n",
    "end\n",
    "\n",
    "function U_block_in_place(partA,partSol,sigma)\n",
    "     for i in 1:length(partSol)\n",
    "         for j in 1:i\n",
    "             partA[j,i]=k(partSol[i],partSol[j],sigma)\n",
    "            end\n",
    "        end\n",
    "end\n",
    "\n",
    "#=\n",
    "function U_block_in_place(partA,partSol,sigma)\n",
    "    @turbo for i in 1:length(partSol)\n",
    "        x = partSol[i]\n",
    "        for j in 1:i\n",
    "            X = partSol[j]\n",
    "            s = zero(eltype(partSol))\n",
    "            for k in eachindex(x, X)\n",
    "                s += (X[k] - x[k])^2\n",
    "            end\n",
    "            partA[j,i] = exp(-s/sigma^2)\n",
    "        end\n",
    "    end\n",
    "end\n",
    "=#\n",
    "function full_block_in_place(partA,partSol1,partSol2,sigma)\n",
    "     for i in 1:length(partSol2)\n",
    "          for j in 1:length(partSol1)\n",
    "              partA[j,i]=k(partSol1[j],partSol2[i],sigma)\n",
    "        end\n",
    "    end\n",
    "end\n",
    "\n",
    "function K_com_inplace(solucionesn,sigma,iOO,iOF,iFO,iFF)\n",
    "    A=zeros(length(solucionesn),length(solucionesn))\n",
    "    D1=@spawn U_block_in_place(@view(A[iOO,iOO]),deepcopy(solucionesn[iOO]),sigma)\n",
    "    D2=@spawn U_block_in_place(@view(A[iOF,iOF]),deepcopy(solucionesn[iOF]),sigma)\n",
    "    D3=@spawn U_block_in_place(@view(A[iFO,iFO]),deepcopy(solucionesn[iFO]),sigma)\n",
    "    D4=@spawn U_block_in_place(@view(A[iFF,iFF]),deepcopy(solucionesn[iFF]),sigma)\n",
    "    D5=@spawn full_block_in_place(@view(A[iOO,iOF]),deepcopy(solucionesn[iOO]),deepcopy(solucionesn[iOF]),sigma)\n",
    "    D6=@spawn full_block_in_place(@view(A[iOF,iFO]),deepcopy(solucionesn[iOF]),deepcopy(solucionesn[iFO]),sigma)\n",
    "    D7=@spawn full_block_in_place(@view(A[iFO,iFF]),deepcopy(solucionesn[iFO]),deepcopy(solucionesn[iFF]),sigma)\n",
    "    D8=@spawn full_block_in_place(@view(A[iOO,iFO]),deepcopy(solucionesn[iOO]),deepcopy(solucionesn[iFO]),sigma)\n",
    "    D9=@spawn full_block_in_place(@view(A[iOF,iFF]),deepcopy(solucionesn[iOF]),deepcopy(solucionesn[iFF]),sigma)\n",
    "    D10=@spawn full_block_in_place(@view(A[iOO,iFF]),deepcopy(solucionesn[iOO]),deepcopy(solucionesn[iFF]),sigma)\n",
    "    \n",
    "    rD1=fetch(D1)\n",
    "    rD2=fetch(D2)\n",
    "    rD3=fetch(D3)\n",
    "    rD4=fetch(D4)\n",
    "    rD5=fetch(D5)\n",
    "    rD6=fetch(D6)\n",
    "    rD7=fetch(D7)\n",
    "    rD8=fetch(D8)\n",
    "    rD9=fetch(D9)\n",
    "    rD10=fetch(D10)\n",
    "    return Symmetric(A)\n",
    "end\n",
    "\n",
    "soln=Matrix{Float64}[]\n",
    "for i in 1:10000\n",
    "    append!(soln,[rand(50,50)])\n",
    "end\n",
    "iOO=1:2550\n",
    "iOF=2551:5026\n",
    "iFO=5027:7530\n",
    "iFF=7531:10000"
   ]
  },
  {
   "cell_type": "code",
   "execution_count": 19,
   "id": "2c90d803",
   "metadata": {},
   "outputs": [
    {
     "name": "stdout",
     "output_type": "stream",
     "text": [
      " 34.509727 seconds (426.00 k allocations: 1.511 GiB, 0.03% gc time, 0.78% compilation time)\n"
     ]
    },
    {
     "data": {
      "text/plain": [
       "10000×10000 Symmetric{Float64, Matrix{Float64}}:\n",
       " 1.0           1.2516e-177   3.14263e-176  …  3.62192e-176  1.99633e-191\n",
       " 1.2516e-177   1.0           3.84638e-180     1.30844e-177  1.52978e-187\n",
       " 3.14263e-176  3.84638e-180  1.0              3.64235e-176  1.3855e-176\n",
       " 7.51634e-180  2.53221e-180  2.18725e-168     7.03099e-169  5.58571e-178\n",
       " 2.60839e-180  1.48419e-180  3.72694e-181     2.93247e-184  1.20514e-181\n",
       " 3.92839e-183  1.29207e-179  2.86419e-175  …  6.49289e-173  8.27141e-178\n",
       " 1.18268e-174  2.7572e-182   1.12295e-175     4.25116e-178  9.24792e-183\n",
       " 3.22808e-181  1.03418e-175  5.06047e-176     2.81503e-171  1.15245e-185\n",
       " 2.96781e-178  9.51342e-184  2.275e-178       9.39906e-183  4.26962e-178\n",
       " 3.72488e-175  2.70507e-186  2.06693e-176     1.00461e-177  5.64167e-181\n",
       " 1.08612e-178  3.04708e-172  2.70473e-177  …  2.08793e-184  1.54138e-179\n",
       " 7.04851e-180  2.35434e-183  1.70045e-181     1.02731e-176  3.40516e-187\n",
       " 4.16917e-183  9.6897e-182   3.91269e-182     1.81648e-186  1.28308e-187\n",
       " ⋮                                         ⋱                \n",
       " 6.29427e-182  8.63292e-176  2.46969e-176     1.96391e-180  6.9485e-180\n",
       " 4.09011e-184  1.32539e-181  8.16495e-180     5.02706e-181  1.63648e-187\n",
       " 8.3624e-185   4.09606e-188  2.18719e-181  …  7.71451e-185  4.46624e-180\n",
       " 1.73115e-184  1.65471e-177  7.36735e-174     5.25606e-174  1.66804e-176\n",
       " 2.53675e-180  4.68193e-187  4.02643e-182     3.42478e-178  4.67133e-184\n",
       " 2.51711e-178  3.10473e-180  1.83524e-183     5.97286e-181  7.13765e-190\n",
       " 7.98988e-182  8.81688e-188  2.24183e-183     4.86952e-184  1.95036e-183\n",
       " 3.1724e-186   8.88003e-182  2.71577e-179  …  5.52105e-182  2.23909e-183\n",
       " 1.19501e-184  2.62548e-186  9.89994e-178     2.31369e-182  1.3204e-189\n",
       " 1.56831e-180  1.80376e-180  9.10655e-173     2.27914e-178  2.28508e-186\n",
       " 3.62192e-176  1.30844e-177  3.64235e-176     1.0           5.24209e-187\n",
       " 1.99633e-191  1.52978e-187  1.3855e-176      5.24209e-187  1.0"
      ]
     },
     "execution_count": 19,
     "metadata": {},
     "output_type": "execute_result"
    }
   ],
   "source": [
    "@time K,K0= K_com_inplace(soln,1.0,iOO,iOF,iFO,iFF)"
   ]
  },
  {
   "cell_type": "code",
   "execution_count": null,
   "id": "496884b9",
   "metadata": {},
   "outputs": [],
   "source": []
  }
 ],
 "metadata": {
  "kernelspec": {
   "display_name": "Julia 1.8.1",
   "language": "julia",
   "name": "julia-1.8"
  },
  "language_info": {
   "file_extension": ".jl",
   "mimetype": "application/julia",
   "name": "julia",
   "version": "1.8.1"
  }
 },
 "nbformat": 4,
 "nbformat_minor": 5
}
