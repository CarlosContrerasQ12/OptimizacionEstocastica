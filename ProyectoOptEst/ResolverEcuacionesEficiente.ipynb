{
 "cells": [
  {
   "cell_type": "code",
   "execution_count": 1,
   "id": "8f1c626f-9305-4520-bd7f-0dbbff0ad744",
   "metadata": {},
   "outputs": [],
   "source": [
    "using Gridap\n",
    "using GridapGmsh\n",
    "using Gridap.FESpaces\n",
    "using Gridap.Geometry\n",
    "using PyCall\n",
    "using PyPlot\n",
    "using JLD\n",
    "using StatsBase"
   ]
  },
  {
   "cell_type": "code",
   "execution_count": 2,
   "id": "51f3d0ff",
   "metadata": {},
   "outputs": [
    {
     "data": {
      "text/plain": [
       "pasar_a_cartesianas (generic function with 1 method)"
      ]
     },
     "execution_count": 2,
     "metadata": {},
     "output_type": "execute_result"
    }
   ],
   "source": [
    "function solucion_en_malla(Ω,uh)\n",
    "    ndcel=Ω.grid.cell_node_ids\n",
    "    ndcoor=Ω.grid.node_coordinates\n",
    "    u=zeros(length(ndcel))\n",
    "    sols=uh.cell_dof_values\n",
    "    for i in 1:length(ndcel)\n",
    "        for j in 1:length(sols[i])\n",
    "            u[ndcel[i][j]]=sols[i][j]\n",
    "        end\n",
    "    end    \n",
    "    return ndcoor,u\n",
    "end\n",
    "\n",
    "function pasar_a_cartesianas(ndcoor,u,dx,dy)\n",
    "    x=Int[]\n",
    "    y=Int[]\n",
    "    for nod in ndcoor\n",
    "        append!(x,Int(round(nod[1]/dx))+1)\n",
    "        append!(y,Int(round(nod[2]/dy))+1)\n",
    "    end\n",
    "    matA=zeros(maximum(x),maximum(y))\n",
    "    for i in 1:length(ndcoor)\n",
    "        matA[x[i],y[i]]=u[i]\n",
    "    end\n",
    "    return matA\n",
    "end"
   ]
  },
  {
   "cell_type": "code",
   "execution_count": 3,
   "id": "7c557bb2-2533-4573-afb2-3978d81c641d",
   "metadata": {},
   "outputs": [
    {
     "data": {
      "text/plain": [
       "resolver_una_etapa_decision (generic function with 1 method)"
      ]
     },
     "execution_count": 3,
     "metadata": {},
     "output_type": "execute_result"
    }
   ],
   "source": [
    "function resolver_una_etapa_decision(Pec,T_1,T_2,S,vaf,V0,Ω,dΩ,Γ,dΓ,dx,dy,dt,t0,Tf,u0,com)\n",
    "    g1(x,t::Real)=T_1\n",
    "    g1(t::Real) = x -> g1(x,t)\n",
    "    g2(x,t::Real)=T_2\n",
    "    g2(t::Real) = x -> g2(x,t)\n",
    "    Ug = TransientTrialFESpace(V0,[g1,g2])\n",
    "\n",
    "    m(u,v) = ∫( u*v )dΩ\n",
    "    a(u,v) = (1.0/Pec)*∫( (∇(u)⋅∇(v)) )dΩ +∫( (vaf⋅(∇(u)))*v)dΩ\n",
    "    b(t,v) = ∫( S(t)*v )dΩ\n",
    "    op_Af = TransientConstantMatrixFEOperator(m,a,b,Ug,V0)    \n",
    "    linear_solver = LUSolver()\n",
    "    Δt = dt\n",
    "    θ = 0.5\n",
    "    ode_solver = ThetaMethod(linear_solver,Δt,θ)\n",
    "    t₀ = t0\n",
    "    T = Tf\n",
    "    u₀=interpolate_everywhere(0.0,Ug(0.0))\n",
    "    if !com\n",
    "        u₀=u0\n",
    "    end\n",
    "    uₕₜ= solve(ode_solver,op_Af,u₀,t₀,T)\n",
    "    tiempos=Float64[]\n",
    "    soluciones=Array{Float64}[]\n",
    "    ndcoor,u=solucion_en_malla(Ω,u₀)\n",
    "    matA=pasar_a_cartesianas(ndcoor,u,dx,dy)\n",
    "    append!(soluciones,[matA])\n",
    "    append!(tiempos,t₀)\n",
    "    uret=u₀\n",
    "    tret=0.0\n",
    "    for (uₕ,t) in uₕₜ\n",
    "        #ndcoor,u=solucion_en_malla(Ω,uₕ)\n",
    "        #matA=pasar_a_cartesianas(ndcoor,u,dx,dy)\n",
    "        #append!(soluciones,[matA])\n",
    "        #append!(tiempos,t)\n",
    "        uret=uₕ\n",
    "        tret=t\n",
    "    end    \n",
    "    ndcoor,u=solucion_en_malla(Ω,uret)\n",
    "    matA=pasar_a_cartesianas(ndcoor,u,dx,dy)\n",
    "    return tret,[matA],uret\n",
    "end"
   ]
  },
  {
   "cell_type": "code",
   "execution_count": 4,
   "id": "aa5b3afe-a99d-4675-abca-383352437f19",
   "metadata": {},
   "outputs": [
    {
     "name": "stdout",
     "output_type": "stream",
     "text": [
      "Info    : Reading 'geometria.msh'...\n",
      "Info    : 11 entities\n",
      "Info    : 2601 nodes\n",
      "Info    : 5200 elements\n",
      "Info    : Done reading 'geometria.msh'\n"
     ]
    },
    {
     "data": {
      "text/plain": [
       "Measure()"
      ]
     },
     "execution_count": 4,
     "metadata": {},
     "output_type": "execute_result"
    }
   ],
   "source": [
    "model = GmshDiscreteModel(\"geometria.msh\")\n",
    "#writevtk(model,\"model\")\n",
    "order = 1\n",
    "reffe = ReferenceFE(lagrangian,Float64,order)\n",
    "V0 = TestFESpace(model,reffe;conformity=:H1,dirichlet_tags=[\"Dv1\",\"Dv2\"])\n",
    "degree = 2\n",
    "Ω = Triangulation(model)\n",
    "dΩ = Measure(Ω,degree)\n",
    "neumanntags = [\"Neumman\"]\n",
    "Γ = BoundaryTriangulation(model,tags=neumanntags)\n",
    "dΓ = Measure(Γ,degree)"
   ]
  },
  {
   "cell_type": "code",
   "execution_count": 5,
   "id": "d38eed71",
   "metadata": {},
   "outputs": [
    {
     "data": {
      "text/plain": [
       "vax (generic function with 1 method)"
      ]
     },
     "execution_count": 5,
     "metadata": {},
     "output_type": "execute_result"
    }
   ],
   "source": [
    "function S(x,t,posc)\n",
    "    c=posc(t)\n",
    "    if abs(c[1]-x[1])<0.1 && abs(c[2]-x[2])<0.1\n",
    "        return 200.0\n",
    "    else\n",
    "        return 0.0\n",
    "    end\n",
    "end\n",
    "\n",
    "function T1_aux(a)\n",
    "    if a==\"OO\" || a==\"OF\"\n",
    "        return -0.5\n",
    "    else\n",
    "        return 0.0\n",
    "    end\n",
    "end\n",
    "\n",
    "function T2_aux(a)\n",
    "    if a==\"OO\" || a==\"FO\"\n",
    "        return -0.5\n",
    "    else\n",
    "        return 0.0\n",
    "    end\n",
    "end\n",
    "\n",
    "function vax(a,x)\n",
    "    if a==\"OO\"\n",
    "        return VectorValue(0.0,5.0)\n",
    "    elseif a==\"OF\"\n",
    "        if x[1]<0.5\n",
    "            return VectorValue(0.0,5.0)\n",
    "        else\n",
    "            return VectorValue(0.0,0.0)\n",
    "        end\n",
    "    elseif a==\"FO\"\n",
    "        if x[1]>0.5\n",
    "            return VectorValue(0.0,5.0)\n",
    "        else\n",
    "            return VectorValue(0.0,0.0)\n",
    "        end\n",
    "    else\n",
    "        return VectorValue(0.0,0.0)\n",
    "    end\n",
    "end"
   ]
  },
  {
   "cell_type": "code",
   "execution_count": 6,
   "id": "747d05b5",
   "metadata": {},
   "outputs": [
    {
     "data": {
      "text/plain": [
       "simular_camino (generic function with 1 method)"
      ]
     },
     "execution_count": 6,
     "metadata": {},
     "output_type": "execute_result"
    }
   ],
   "source": [
    "np = pyimport(\"numpy\")\n",
    "function simular_camino(Pec,V0,Ω,dΩ,Γ,dΓ,dx,dy,Ndeci,Tf,fdeci)\n",
    "    t2=LinRange(0.0, Tf, Ndeci+1)\n",
    "    pol=[\"FF\"]\n",
    "    x0=rand()\n",
    "    y0=0.4+0.6*rand()\n",
    "    posc(t::Real)=(x0-0.1*t,y0-0.1*t)\n",
    "    St(t::Real)= x -> S(x,t,posc)\n",
    "    ttodos=Float64[]\n",
    "    solTodos=Array{Float64,2}[]\n",
    "    com=true\n",
    "    u0=Gridap.FESpaces.FEFunction\n",
    "    for i in 1:Ndeci  \n",
    "        T1f=T1_aux(pol[i])\n",
    "        T2f=T2_aux(pol[i])\n",
    "        vg(x)=vax(pol[i],x) \n",
    "        temps,soluciones,usig=resolver_una_etapa_decision(Pec,T1f,T2f,St,vg,V0,Ω,dΩ,Γ,dΓ,dx,dy,0.05,t2[i],t2[i+1],u0,com)\n",
    "        append!(ttodos,temps)\n",
    "        append!(solTodos,soluciones)\n",
    "        u0=usig\n",
    "        anew=fdeci(soluciones[end])\n",
    "        append!(pol,[anew])\n",
    "        com=false\n",
    "    end\n",
    "    save(\"data/solpruba.jld\", \"sol\",solTodos, \"t\", ttodos, \"centroS\",posc.(ttodos),\"tiemposDeci\",t2,\"pol\",pol)\n",
    "    return ttodos,solTodos\n",
    "end"
   ]
  },
  {
   "cell_type": "code",
   "execution_count": 7,
   "id": "b31cd972",
   "metadata": {},
   "outputs": [
    {
     "data": {
      "text/plain": [
       "f_random (generic function with 1 method)"
      ]
     },
     "execution_count": 7,
     "metadata": {},
     "output_type": "execute_result"
    }
   ],
   "source": [
    "function f_random(x)\n",
    "    return StatsBase.sample([\"OO\",\"OF\",\"FO\",\"FF\"])\n",
    "end"
   ]
  },
  {
   "cell_type": "code",
   "execution_count": 8,
   "id": "0b70b9c7",
   "metadata": {},
   "outputs": [
    {
     "name": "stdout",
     "output_type": "stream",
     "text": [
      " 24.007652 seconds (87.81 M allocations: 5.954 GiB, 5.88% gc time, 86.73% compilation time)\n"
     ]
    }
   ],
   "source": [
    "@time ttodos,solTodos=simular_camino(1.0,V0,Ω,dΩ,Γ,dΓ,1.0/50.0,1.0/50.0,20,10.0,f_random);"
   ]
  },
  {
   "cell_type": "code",
   "execution_count": 9,
   "id": "28e3b037",
   "metadata": {},
   "outputs": [
    {
     "data": {
      "text/plain": [
       "20-element Vector{Matrix{Float64}}:\n",
       " [0.05244754022828531 0.10489753359205216 … 3.267362180237119 3.2616670808135675; 0.0 0.09293921987661038 … 3.2630884827633047 3.2576128317696518; … ; 0.0 0.04577506084660227 … 1.3603826618705197 1.361074579129067; 0.025790913889335285 0.051592231837095645 … 1.3593956682915427 1.3601266246947101]\n",
       " [-0.14276199534979128 -0.26070859607022767 … 0.3218491403375341 0.3206912854215771; -0.5 -0.2272008028023459 … 0.31997140232597965 0.3187323944417354; … ; -0.5 -0.24033696052792264 … -0.37125048512993614 -0.37100568645266024; -0.1671776850140072 -0.28022139475709684 … -0.3714988808238653 -0.3712533995260403]\n",
       " [-0.03595888121020412 -0.0532051505082657 … 0.1533519972553758 0.1540201173328377; 0.0 -0.044231046046988395 … 0.15335056449113055 0.15391926272628703; … ; 0.0 -0.05070386237313112 … 0.10991025709206882 0.10995886357509516; -0.04987632842959719 -0.06217270868807964 … 0.10986118701690553 0.10991061230895155]\n",
       " [-0.17230807727459907 -0.30282876552957627 … -0.3523019502254476 -0.3516647975295438; -0.5 -0.2623797246614633 … -0.35219696246456234 -0.35163031348407037; … ; 0.0 -0.04258037778421455 … -0.23222613825638672 -0.2322832806320639; -0.0404258552305386 -0.051240537819264645 … -0.232122573347195 -0.23218525317123348]\n",
       " [-0.2148067094529088 -0.3681937496437644 … -0.37765544685063984 -0.3773449528109529; -0.5 -0.31832339723619585 … -0.37758700613163 -0.37730244311301386; … ; 0.0 -0.033801594922166875 … -0.28430752044696134 -0.2843899262369082; -0.032317827351613586 -0.04029292604815281 … -0.28422671948416267 -0.2843082964776815]\n",
       " [-0.2425610774205078 -0.40681115720276695 … -0.3799970772624041 -0.3798380424684392; -0.5 -0.3511682190399523 … -0.37991850403882466 -0.37976194269824415; … ; 0.0 -0.028078039278377 … -0.2881621676630867 -0.28824579323080457; -0.026820571527740398 -0.033136256149417634 … -0.288082997694891 -0.28816544709331204]\n",
       " [-0.10940431096027164 -0.15397568605629278 … -0.11977188525787358 -0.11983756358473646; 0.0 -0.12955212940778044 … -0.11978185003623959 -0.11983423131874638; … ; 0.0 -0.015130671339221873 … -0.11964715311615093 -0.11970740103016636; -0.017811862828426728 -0.018061523141265745 … -0.11964437821030449 -0.11969632871429864]\n",
       " [-0.22509919501496234 -0.36703516987025353 … -0.36550243093591334 -0.3654072827451174; -0.5 -0.31640071719001384 … -0.36538640888498364 -0.3652829576890658; … ; 0.0 -0.02092964030808804 … -0.25730673683326777 -0.2573736789627472; -0.019718408685149375 -0.024211597857703562 … -0.25721399534790745 -0.2572838478995878]\n",
       " [-0.2575543256588241 -0.41611011512156304 … -0.3795603023727752 -0.3794953752276889; -0.5 -0.3587507310331137 … -0.379450768056969 -0.3793768134649709; … ; 0.0 -0.020075851577893183 … -0.28616218698480267 -0.2862432180550345; -0.018152578603474218 -0.02297534721595048 … -0.2860820819013262 -0.2861624821864104]\n",
       " [-0.12996360982632596 -0.17550189517393555 … -0.29119197094671484 -0.291303388634975; 0.0 -0.14823662305519897 … -0.2912638602777988 -0.2913681740004418; … ; -0.5 -0.2475736811705168 … -0.3816020269687026 -0.38150921434913165; -0.17802199736693636 -0.28837664109786165 … -0.38170337581468394 -0.3816091846410422]\n",
       " [-0.09889317716488849 -0.12245355432908225 … -0.28863213301424234 -0.2887391171797246; 0.0 -0.10313503802034922 … -0.28870348080841723 -0.2888056745653701; … ; -0.5 -0.3140470495463481 … -0.3806634202659156 -0.38056231982279987; -0.2394764259665101 -0.367648505696898 … -0.38076669580906797 -0.3806651112747531]\n",
       " [-0.22284704099110997 -0.35112904500193676 … -0.49868911939888355 -0.4987085705872661; -0.5 -0.30358367948021225 … -0.4986805087667976 -0.49869785537272904; … ; -0.5 -0.3551351690070277 … -0.49895772843837993 -0.49895724042461753; -0.2813930230578443 -0.4162234804963494 … -0.49895805384818914 -0.4989571566256741]\n",
       " [-0.1067277367360256 -0.1307036630245846 … -0.1850351339255497 -0.18514649991541776; 0.0 -0.11036047488828644 … -0.18502228370664325 -0.18512331184811032; … ; 0.0 -0.1306990946650724 … -0.1849287334160158 -0.18501502889067706; -0.13400106509665557 -0.1555680761661111 … -0.18492467003937468 -0.18499958176405745]\n",
       " [-0.2278137828749931 -0.3542327617350456 … -0.3688332432347557 -0.36871129914491624; -0.5 -0.30635315460741597 … -0.3687072934459898 -0.36858908322033984; … ; 0.0 -0.09175146947459407 … -0.26388619725757106 -0.2639537333211418; -0.10008071069794819 -0.10783595956228231 … -0.263796121653274 -0.26386632391436515]\n",
       " [-0.11015020215085564 -0.13114422018778776 … -0.11532033620703783 -0.11536382872484227; 0.0 -0.11084840535033924 … -0.11530904932425459 -0.11535126075829583; … ; 0.0 -0.059938971356088305 … -0.1148499388996839 -0.11490450919627915; -0.07379559367427319 -0.06958995558428742 … -0.11484703872530519 -0.11489430655354341]\n",
       " [-0.08444848073553803 -0.08755453811804813 … -0.03354111702046833 -0.03353828935521397; 0.0 -0.07381449794038589 … -0.0335329515718497 -0.03353403359786397; … ; 0.0 -0.04308772231459743 … -0.03349134946295457 -0.03350773919828244; -0.05802478069906966 -0.04895575550177416 … -0.03349063337273096 -0.033504525086451756]\n",
       " [-0.07666952364442244 -0.0780548909197103 … -0.24848437364972878 -0.248509655396201; 0.0 -0.06666498771130351 … -0.24857850069024007 -0.2486150951486285; … ; -0.5 -0.27368377502366503 … -0.3613490479921656 -0.3612205967658044; -0.21561925288618689 -0.3168600512772617 … -0.3614703161316535 -0.36134275788101766]\n",
       " [-0.20918328039081113 -0.32221880031876704 … -0.4985865360046857 -0.4985612013858672; -0.5 -0.28038609734926556 … -0.49858106319571777 -0.49856231309089877; … ; -0.5 -0.3374058705627283 … -0.4988554152256899 -0.4988523083775467; -0.27238571273495593 -0.3923043023010945 … -0.4988557062243464 -0.49885260578792456]\n",
       " [-0.24940143894157518 -0.38535124433166545 … -0.3932751103751906 -0.39316785657747927; -0.5 -0.33472499768166164 … -0.3931759132861076 -0.39307474853653407; … ; 0.0 -0.12991674133615136 … -0.31498700139134284 -0.3150785447287605; -0.13575160490799226 -0.15143075936467257 … -0.3149192422510799 -0.31500732646980234]\n",
       " [-0.27662884002196897 -0.4252088600533602 … -0.4990455077900092 -0.499014623159677; -0.5 -0.3690253788594794 … -0.49904098858080365 -0.49901699035020436; … ; -0.5 -0.32029480501292806 … -0.49870784593506445 -0.4987078646306974; -0.26490510884331964 -0.3716453175486897 … -0.49870708037926326 -0.498706959717235]"
      ]
     },
     "execution_count": 9,
     "metadata": {},
     "output_type": "execute_result"
    }
   ],
   "source": [
    "solTodos"
   ]
  },
  {
   "cell_type": "code",
   "execution_count": 10,
   "id": "9dac91d1",
   "metadata": {},
   "outputs": [
    {
     "data": {
      "text/plain": [
       "20-element Vector{Float64}:\n",
       "  0.49999999999999994\n",
       "  1.0000000000000004\n",
       "  1.5000000000000004\n",
       "  2.0000000000000004\n",
       "  2.4999999999999982\n",
       "  2.9999999999999982\n",
       "  3.4999999999999982\n",
       "  3.9999999999999982\n",
       "  4.499999999999998\n",
       "  4.999999999999998\n",
       "  5.499999999999998\n",
       "  5.999999999999998\n",
       "  6.499999999999998\n",
       "  6.999999999999998\n",
       "  7.499999999999998\n",
       "  7.999999999999998\n",
       "  8.500000000000007\n",
       "  9.000000000000007\n",
       "  9.500000000000007\n",
       " 10.000000000000007"
      ]
     },
     "execution_count": 10,
     "metadata": {},
     "output_type": "execute_result"
    }
   ],
   "source": [
    "data=load(\"data/solpruba.jld\",\"t\")"
   ]
  },
  {
   "cell_type": "code",
   "execution_count": 11,
   "id": "6fb1e288",
   "metadata": {},
   "outputs": [
    {
     "ename": "LoadError",
     "evalue": "syntax: incomplete: premature end of input",
     "output_type": "error",
     "traceback": [
      "syntax: incomplete: premature end of input",
      "",
      "Stacktrace:",
      " [1] top-level scope",
      "   @ In[11]:1",
      " [2] eval",
      "   @ ./boot.jl:368 [inlined]",
      " [3] include_string(mapexpr::typeof(REPL.softscope), mod::Module, code::String, filename::String)",
      "   @ Base ./loading.jl:1428"
     ]
    }
   ],
   "source": [
    "data."
   ]
  },
  {
   "cell_type": "code",
   "execution_count": null,
   "id": "6c13ed46",
   "metadata": {},
   "outputs": [],
   "source": []
  }
 ],
 "metadata": {
  "kernelspec": {
   "display_name": "Julia 1.8.1",
   "language": "julia",
   "name": "julia-1.8"
  },
  "language_info": {
   "file_extension": ".jl",
   "mimetype": "application/julia",
   "name": "julia",
   "version": "1.8.1"
  }
 },
 "nbformat": 4,
 "nbformat_minor": 5
}
