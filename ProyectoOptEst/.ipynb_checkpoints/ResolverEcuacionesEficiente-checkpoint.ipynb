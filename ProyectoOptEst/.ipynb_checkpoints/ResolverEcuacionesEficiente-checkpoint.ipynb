{
 "cells": [
  {
   "cell_type": "code",
   "execution_count": 5,
   "id": "8f1c626f-9305-4520-bd7f-0dbbff0ad744",
   "metadata": {},
   "outputs": [],
   "source": [
    "using Gridap\n",
    "using GridapGmsh\n",
    "using Gridap.FESpaces\n",
    "using Gridap.Geometry\n",
    "using PyCall\n",
    "using PyPlot\n",
    "using JLD\n",
    "using StatsBase"
   ]
  },
  {
   "cell_type": "code",
   "execution_count": 6,
   "id": "51f3d0ff",
   "metadata": {},
   "outputs": [
    {
     "data": {
      "text/plain": [
       "pasar_a_cartesianas (generic function with 1 method)"
      ]
     },
     "execution_count": 6,
     "metadata": {},
     "output_type": "execute_result"
    }
   ],
   "source": [
    "function solucion_en_malla(Ω,uh)\n",
    "    ndcel=Ω.grid.cell_node_ids\n",
    "    ndcoor=Ω.grid.node_coordinates\n",
    "    u=zeros(length(ndcel))\n",
    "    sols=uh.cell_dof_values\n",
    "    for i in 1:length(ndcel)\n",
    "        for j in 1:length(sols[i])\n",
    "            u[ndcel[i][j]]=sols[i][j]\n",
    "        end\n",
    "    end    \n",
    "    return ndcoor,u\n",
    "end\n",
    "\n",
    "function pasar_a_cartesianas(ndcoor,u,dx,dy)\n",
    "    x=Int[]\n",
    "    y=Int[]\n",
    "    for nod in ndcoor\n",
    "        append!(x,Int(round(nod[1]/dx))+1)\n",
    "        append!(y,Int(round(nod[2]/dy))+1)\n",
    "    end\n",
    "    matA=zeros(maximum(x),maximum(y))\n",
    "    for i in 1:length(ndcoor)\n",
    "        matA[x[i],y[i]]=u[i]\n",
    "    end\n",
    "    return matA\n",
    "end"
   ]
  },
  {
   "cell_type": "code",
   "execution_count": 100,
   "id": "7c557bb2-2533-4573-afb2-3978d81c641d",
   "metadata": {},
   "outputs": [
    {
     "data": {
      "text/plain": [
       "resolver_una_etapa_decision (generic function with 2 methods)"
      ]
     },
     "execution_count": 100,
     "metadata": {},
     "output_type": "execute_result"
    }
   ],
   "source": [
    "function resolver_una_etapa_decision(Pec,T_1,T_2,S,vaf,V0,Ω,dΩ,Γ,dΓ,dx,dy,dt,t0,Tf,u0,com)\n",
    "    g1(x,t::Real)=T_1\n",
    "    g1(t::Real) = x -> g1(x,t)\n",
    "    g2(x,t::Real)=T_2\n",
    "    g2(t::Real) = x -> g2(x,t)\n",
    "    Ug = TransientTrialFESpace(V0,[g1,g2])\n",
    "\n",
    "    m(u,v) = ∫( u*v )dΩ\n",
    "    a(u,v) = (1.0/Pec)*∫( (∇(u)⋅∇(v)) )dΩ +∫( (vaf⋅(∇(u)))*v)dΩ\n",
    "    b(t,v) = ∫( S(t)*v )dΩ\n",
    "    op_Af = TransientConstantMatrixFEOperator(m,a,b,Ug,V0)    \n",
    "    linear_solver = LUSolver()\n",
    "    Δt = dt\n",
    "    θ = 0.5\n",
    "    ode_solver = ThetaMethod(linear_solver,Δt,θ)\n",
    "    t₀ = t0\n",
    "    T = Tf\n",
    "    u₀=interpolate_everywhere(0.0,Ug(0.0))\n",
    "    if !com\n",
    "        u₀=u0\n",
    "    end\n",
    "    uₕₜ= solve(ode_solver,op_Af,u₀,t₀,T)\n",
    "    tiempos=Float64[]\n",
    "    soluciones=Array{Float64}[]\n",
    "    ndcoor,u=solucion_en_malla(Ω,u₀)\n",
    "    matA=pasar_a_cartesianas(ndcoor,u,dx,dy)\n",
    "    append!(soluciones,[matA])\n",
    "    append!(tiempos,t₀)\n",
    "    uret=u₀\n",
    "    tret=0.0\n",
    "    for (uₕ,t) in uₕₜ\n",
    "        #ndcoor,u=solucion_en_malla(Ω,uₕ)\n",
    "        #matA=pasar_a_cartesianas(ndcoor,u,dx,dy)\n",
    "        #append!(soluciones,[matA])\n",
    "        #append!(tiempos,t)\n",
    "        uret=uₕ\n",
    "        tret=t\n",
    "    end    \n",
    "    ndcoor,u=solucion_en_malla(Ω,uret)\n",
    "    matA=pasar_a_cartesianas(ndcoor,u,dx,dy)\n",
    "    return tret,[matA],uret\n",
    "end"
   ]
  },
  {
   "cell_type": "code",
   "execution_count": 8,
   "id": "aa5b3afe-a99d-4675-abca-383352437f19",
   "metadata": {},
   "outputs": [
    {
     "name": "stdout",
     "output_type": "stream",
     "text": [
      "Info    : Reading 'geometria.msh'...\n",
      "Info    : 11 entities\n",
      "Info    : 2601 nodes\n",
      "Info    : 5200 elements\n",
      "Info    : Done reading 'geometria.msh'\n"
     ]
    },
    {
     "data": {
      "text/plain": [
       "Measure()"
      ]
     },
     "execution_count": 8,
     "metadata": {},
     "output_type": "execute_result"
    }
   ],
   "source": [
    "model = GmshDiscreteModel(\"geometria.msh\")\n",
    "#writevtk(model,\"model\")\n",
    "order = 1\n",
    "reffe = ReferenceFE(lagrangian,Float64,order)\n",
    "V0 = TestFESpace(model,reffe;conformity=:H1,dirichlet_tags=[\"Dv1\",\"Dv2\"])\n",
    "degree = 2\n",
    "Ω = Triangulation(model)\n",
    "dΩ = Measure(Ω,degree)\n",
    "neumanntags = [\"Neumman\"]\n",
    "Γ = BoundaryTriangulation(model,tags=neumanntags)\n",
    "dΓ = Measure(Γ,degree)"
   ]
  },
  {
   "cell_type": "code",
   "execution_count": 22,
   "id": "d38eed71",
   "metadata": {},
   "outputs": [
    {
     "data": {
      "text/plain": [
       "vax (generic function with 1 method)"
      ]
     },
     "execution_count": 22,
     "metadata": {},
     "output_type": "execute_result"
    }
   ],
   "source": [
    "function S(x,t,posc)\n",
    "    c=posc(t)\n",
    "    if abs(c[1]-x[1])<0.1 && abs(c[2]-x[2])<0.1\n",
    "        return 200.0\n",
    "    else\n",
    "        return 0.0\n",
    "    end\n",
    "end\n",
    "\n",
    "function T1_aux(a)\n",
    "    if a==\"OO\" || a==\"OF\"\n",
    "        return -0.5\n",
    "    else\n",
    "        return 0.0\n",
    "    end\n",
    "end\n",
    "\n",
    "function T2_aux(a)\n",
    "    if a==\"OO\" || a==\"FO\"\n",
    "        return -0.5\n",
    "    else\n",
    "        return 0.0\n",
    "    end\n",
    "end\n",
    "\n",
    "function vax(a,x)\n",
    "    if a==\"OO\"\n",
    "        return VectorValue(0.0,5.0)\n",
    "    elseif a==\"OF\"\n",
    "        if x[1]<0.5\n",
    "            return VectorValue(0.0,5.0)\n",
    "        else\n",
    "            return VectorValue(0.0,0.0)\n",
    "        end\n",
    "    elseif a==\"FO\"\n",
    "        if x[1]>0.5\n",
    "            return VectorValue(0.0,5.0)\n",
    "        else\n",
    "            return VectorValue(0.0,0.0)\n",
    "        end\n",
    "    else\n",
    "        return VectorValue(0.0,0.0)\n",
    "    end\n",
    "end"
   ]
  },
  {
   "cell_type": "code",
   "execution_count": 101,
   "id": "747d05b5",
   "metadata": {},
   "outputs": [
    {
     "data": {
      "text/plain": [
       "simular_camino (generic function with 1 method)"
      ]
     },
     "execution_count": 101,
     "metadata": {},
     "output_type": "execute_result"
    }
   ],
   "source": [
    "np = pyimport(\"numpy\")\n",
    "function simular_camino(Pec,V0,Ω,dΩ,Γ,dΓ,dx,dy,Ndeci,Tf,fdeci)\n",
    "    t2=LinRange(0.0, Tf, Ndeci+1)\n",
    "    pol=[\"FF\"]\n",
    "    x0=rand()\n",
    "    y0=0.4+0.6*rand()\n",
    "    posc(t::Real)=(x0-0.1*t,y0-0.1*t)\n",
    "    St(t::Real)= x -> S(x,t,posc)\n",
    "    ttodos=Float64[]\n",
    "    solTodos=Array{Float64,2}[]\n",
    "    com=true\n",
    "    u0=Gridap.FESpaces.FEFunction\n",
    "    for i in 1:Ndeci  \n",
    "        T1f=T1_aux(pol[i])\n",
    "        T2f=T2_aux(pol[i])\n",
    "        vg(x)=vax(pol[i],x) \n",
    "        temps,soluciones,usig=resolver_una_etapa_decision(Pec,T1f,T2f,St,vg,V0,Ω,dΩ,Γ,dΓ,dx,dy,0.05,t2[i],t2[i+1],u0,com)\n",
    "        append!(ttodos,temps)\n",
    "        append!(solTodos,soluciones)\n",
    "        u0=usig\n",
    "        anew=fdeci(soluciones[end])\n",
    "        append!(pol,[anew])\n",
    "        com=false\n",
    "    end\n",
    "    save(\"data/solpruba.jld\", \"sol\",solTodos, \"t\", ttodos, \"centroS\",posc.(ttodos),\"tiemposDeci\",t2,\"pol\",pol)\n",
    "    return ttodos,solTodos\n",
    "end"
   ]
  },
  {
   "cell_type": "code",
   "execution_count": 24,
   "id": "b31cd972",
   "metadata": {},
   "outputs": [
    {
     "data": {
      "text/plain": [
       "f_random (generic function with 2 methods)"
      ]
     },
     "execution_count": 24,
     "metadata": {},
     "output_type": "execute_result"
    }
   ],
   "source": [
    "function f_random(x)\n",
    "    return StatsBase.sample([\"OO\",\"OF\",\"FO\",\"FF\"])\n",
    "end"
   ]
  },
  {
   "cell_type": "code",
   "execution_count": 104,
   "id": "0b70b9c7",
   "metadata": {},
   "outputs": [
    {
     "name": "stdout",
     "output_type": "stream",
     "text": [
      "  2.976318 seconds (24.07 M allocations: 2.513 GiB, 12.96% gc time)\n"
     ]
    }
   ],
   "source": [
    "@time ttodos,solTodos=simular_camino(1.0,V0,Ω,dΩ,Γ,dΓ,1.0/50.0,1.0/50.0,20,10.0,f_random);"
   ]
  },
  {
   "cell_type": "code",
   "execution_count": 103,
   "id": "28e3b037",
   "metadata": {},
   "outputs": [
    {
     "data": {
      "text/plain": [
       "20-element Vector{Matrix{Float64}}:\n",
       " [0.07427979071792332 0.14857340616279108 … 4.316659534232178 4.31736256326684; 0.0 0.13172960713627113 … 4.318187734839987 4.318949770813284; … ; 0.0 0.09832340803735279 … 3.012961571967088 3.0144043182653117; 0.05540603180314649 0.11083608224709195 … 3.0108697434668725 3.0123997823853714]\n",
       " [-0.13367019025233773 -0.24260731771093058 … 2.159201132761684 2.161416438677893; -0.5 -0.21105358122070916 … 2.1617632280402947 2.163965791622668; … ; 0.0 0.04864145891255159 … 1.810218453294541 1.8113211135151617; 0.027455400856371333 0.054903136779708886 … 1.8093809555398863 1.8104480169089538]\n",
       " [-0.18245929730701327 -0.318405879100632 … 2.25315963135243 2.2536665495106663; -0.5 -0.2757743716249689 … 2.2537961542057383 2.2542861641173806; … ; 0.0 0.03914456804543087 … 1.4415626900698943 1.4424302009913847; 0.02209001152518035 0.04417836373512031 … 1.440775443228914 1.4416319995833846]\n",
       " [-0.21138151298318386 -0.3576782423017656 … 2.3739121814274524 2.3730455736623624; -0.5 -0.3088558613924558 … 2.3731011163261106 2.3722344927122903; … ; 0.0 0.036208013479045675 … 1.2996192548865357 1.3003843229191485; 0.020430190649624584 0.04085967055033428 … 1.2988878612460693 1.2996481606123247]\n",
       " [0.03273055424233795 0.11809542083705032 … 4.101377531995044 4.098989647295102; 0.0 0.11053040231828226 … 4.09936870049501 4.097026646134609; … ; 0.0 0.09044632818901041 … 2.427541605710454 2.4284981811943243; 0.05095974011980145 0.10193015440914428 … 2.426276550294428 2.4272747260765954]\n",
       " [0.06077033238373719 0.16714229837746641 … 3.0941016134474806 3.0916849545924725; 0.0 0.15231946914767358 … 3.0914278452521122 3.088996623089563; … ; -0.5 -0.22378733426470077 … 0.7970641422365037 0.7988779780199471; -0.15771103893883642 -0.261786819743251 … 0.7952245999066345 0.7970371591117316]\n",
       " [0.09925283047731054 0.23911786824226244 … 3.290753562823218 3.2893399156768677; 0.0 0.21494767801655607 … 3.289177853974219 3.287757140568882; … ; 0.0 0.02484744858056437 … 2.091404085043135 2.092305029831507; -0.007079272288560784 0.02285711756182149 … 2.09050350757032 2.091402515356691]\n",
       " [-0.1456489822477488 -0.2299378917139776 … 0.9188177471323422 0.9176984751940134; -0.5 -0.1973404090950598 … 0.9171988609831545 0.9160439257474224; … ; -0.5 -0.2672911178291518 … -0.11504136440921808 -0.11437142519351423; -0.19876553766581884 -0.314040530464448 … -0.11566991623816558 -0.11500816782084292]\n",
       " [-0.19603624983777312 -0.3118021969890423 … 0.2867932432464706 0.28634820003508565; -0.5 -0.2681354290432125 … 0.28595440235385317 0.28547669490944705; … ; -0.5 -0.32831538472710053 … -0.2714760762600965 -0.2710753091099232; -0.2551231425588416 -0.3863174873650358 … -0.2718350491937118 -0.27144139156521085]\n",
       " [-0.07809688337497787 -0.08854923923547953 … 0.03470243628349827 0.03455948550014386; 0.0 -0.07252279521456735 … 0.0344214823355809 0.03426671262748668; … ; -0.5 -0.361202818489911 … -0.24657498145908469 -0.24627042602691412; -0.2911076316963923 -0.4251061215086903 … -0.24684086917329906 -0.2465422694074184]\n",
       " [-0.2191046630843939 -0.3519280025047341 … -0.3675739607151463 -0.3674579736391635; -0.5 -0.30337078911904924 … -0.36745472821199926 -0.36733916378147863; … ; 0.0 -0.14433413524511124 … -0.261777537847691 -0.26182300196015784; -0.14676648963050937 -0.1725120921274899 … -0.26168499956149804 -0.261737276142707]\n",
       " [-0.25571453925107157 -0.40887413585185384 … -0.498956674410791 -0.498953332213063; -0.5 -0.35258286846524245 … -0.4989557457426414 -0.49895266697859036; … ; -0.5 -0.3300303424500426 … -0.49856541875481164 -0.49855578485638885; -0.27196732182881744 -0.38672495022038966 … -0.49856377788550366 -0.49855605685947685]\n",
       " [-0.2769631496915095 -0.4372262403697228 … -0.39327201967375763 -0.3931932658760529; -0.5 -0.37690973001062955 … -0.3931777350785612 -0.39309810529332684; … ; 0.0 -0.13195938764386633 … -0.31497651623057055 -0.31505792913663266; -0.1404952974061722 -0.15644340053293404 … -0.31490768842372263 -0.31498785921291866]\n",
       " [-0.1449965818152451 -0.18922054730723742 … -0.29293524135879007 -0.29300766151522756; 0.0 -0.16008831787722022 … -0.2930126144378064 -0.29308540502547314; … ; -0.5 -0.32124547786716795 … -0.38242024941715236 -0.38231888170334627; -0.26853321528857765 -0.37521874478692185 … -0.3825194896131848 -0.3824190328139096]\n",
       " [-0.25381129074631636 -0.3905604284462263 … -0.49864092299863555 -0.4986374010816316; -0.5 -0.33696382239810785 … -0.49864134304725555 -0.4986380847718311; … ; -0.5 -0.37027663446661796 … -0.49895017967626354 -0.49893826390539986; -0.31239271343818853 -0.4324706863172826 … -0.4989493860814256 -0.4989395676610104]\n",
       " [-0.28339446651890055 -0.43573893963761223 … -0.4999687420860882 -0.49996096454801897; -0.5 -0.37620590061729164 … -0.4999688982413264 -0.49996171672981704; … ; -0.5 -0.3964761473279863 … -0.4999861336588003 -0.499979613548144; -0.339994940823395 -0.46264735646103117 … -0.4999851782353689 -0.4999799968586217]\n",
       " [-0.14816894232514358 -0.18149663361118484 … -0.18522507550332373 -0.18532694711865333; 0.0 -0.15385814043397336 … -0.18522087454164432 -0.1853118409024581; … ; 0.0 -0.16359908222551123 … -0.18517118647442676 -0.1852515030627423; -0.18290692234526829 -0.19136931965529996 … -0.18516621546554984 -0.18523680220130195]\n",
       " [-0.11881302559629453 -0.1333559356990885 … -0.2638076533364634 -0.26386719807980186; 0.0 -0.11337692411837337 … -0.2638998178056093 -0.2639621784132293; … ; -0.5 -0.34818714730671807 … -0.368620066520569 -0.3684960633639341; -0.30438806764894943 -0.40379349428979816 … -0.3687329402399571 -0.3686110974584981]\n",
       " [-0.09991601462646983 -0.10371037903075088 … -0.28657229705072895 -0.2866486626335699; 0.0 -0.08876964252240484 … -0.28665231428575627 -0.28672858306174104; … ; -0.5 -0.3884469648595681 … -0.37969710815950064 -0.37958701391110833; -0.3404894671096238 -0.45051010093319466 … -0.379800249400785 -0.3796916841741022]\n",
       " [-0.08148801056445572 -0.07349713016489626 … -0.11938929781789376 -0.11945674382558308; 0.0 -0.06329572621326822 … -0.11938674570608221 -0.11944686117216352; … ; 0.0 -0.16052177444456203 … -0.11971724324613386 -0.119760732040751; -0.186288823754381 -0.18510176590719002 … -0.11971364418160585 -0.11975236294762648]"
      ]
     },
     "execution_count": 103,
     "metadata": {},
     "output_type": "execute_result"
    }
   ],
   "source": [
    "solTodos"
   ]
  },
  {
   "cell_type": "code",
   "execution_count": 105,
   "id": "9dac91d1",
   "metadata": {},
   "outputs": [
    {
     "data": {
      "text/plain": [
       "20-element Vector{Float64}:\n",
       "  0.49999999999999994\n",
       "  1.0000000000000004\n",
       "  1.5000000000000004\n",
       "  2.0000000000000004\n",
       "  2.4999999999999982\n",
       "  2.9999999999999982\n",
       "  3.4999999999999982\n",
       "  3.9999999999999982\n",
       "  4.499999999999998\n",
       "  4.999999999999998\n",
       "  5.499999999999998\n",
       "  5.999999999999998\n",
       "  6.499999999999998\n",
       "  6.999999999999998\n",
       "  7.499999999999998\n",
       "  7.999999999999998\n",
       "  8.500000000000007\n",
       "  9.000000000000007\n",
       "  9.500000000000007\n",
       " 10.000000000000007"
      ]
     },
     "execution_count": 105,
     "metadata": {},
     "output_type": "execute_result"
    }
   ],
   "source": [
    "data=load(\"data/solpruba.jld\",\"t\")"
   ]
  },
  {
   "cell_type": "code",
   "execution_count": 75,
   "id": "6fb1e288",
   "metadata": {},
   "outputs": [
    {
     "data": {
      "text/plain": [
       "PyObject <numpy.lib.npyio.NpzFile object at 0x7fa053a22070>"
      ]
     },
     "execution_count": 75,
     "metadata": {},
     "output_type": "execute_result"
    }
   ],
   "source": [
    "data."
   ]
  },
  {
   "cell_type": "code",
   "execution_count": null,
   "id": "6c13ed46",
   "metadata": {},
   "outputs": [],
   "source": []
  }
 ],
 "metadata": {
  "kernelspec": {
   "display_name": "Julia 1.8.1",
   "language": "julia",
   "name": "julia-1.8"
  },
  "language_info": {
   "file_extension": ".jl",
   "mimetype": "application/julia",
   "name": "julia",
   "version": "1.8.1"
  }
 },
 "nbformat": 4,
 "nbformat_minor": 5
}
