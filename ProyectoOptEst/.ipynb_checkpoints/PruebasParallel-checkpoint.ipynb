{
 "cells": [
  {
   "cell_type": "code",
   "execution_count": 1,
   "id": "81614d5d",
   "metadata": {},
   "outputs": [
    {
     "data": {
      "text/plain": [
       "true"
      ]
     },
     "execution_count": 1,
     "metadata": {},
     "output_type": "execute_result"
    }
   ],
   "source": [
    "using PyPlot\n",
    "using JLD\n",
    "using LinearAlgebra\n",
    "using SparseArrays\n",
    "using BenchmarkTools\n",
    "import Base.Threads: nthreads, @spawn\n",
    "using LoopVectorization\n",
    "nthreads()\n",
    "set_zero_subnormals(true) "
   ]
  },
  {
   "cell_type": "code",
   "execution_count": 2,
   "id": "805046da",
   "metadata": {},
   "outputs": [
    {
     "data": {
      "text/plain": [
       "7531:10000"
      ]
     },
     "execution_count": 2,
     "metadata": {},
     "output_type": "execute_result"
    }
   ],
   "source": [
    "function k(X,x,sigma)\n",
    "    s = zero(eltype(x))\n",
    "    @simd for i in eachindex(x,X)\n",
    "            s += (X[i] - x[i])^2\n",
    "        end\n",
    "    return exp(-s/sigma^2)\n",
    "end\n",
    "function U_block_in_place(partA,partSol,sigma)\n",
    "     for i in 1:length(partSol)\n",
    "         for j in 1:i\n",
    "             partA[j,i]=k(partSol[i],partSol[j],sigma)\n",
    "            end\n",
    "        end\n",
    "end\n",
    "\n",
    "function full_block_in_place(partA,partSol1,partSol2,sigma)\n",
    "     for i in 1:length(partSol2)\n",
    "          for j in 1:length(partSol1)\n",
    "              partA[j,i]=k(partSol1[j],partSol2[i],sigma)\n",
    "        end\n",
    "    end\n",
    "end\n",
    "\n",
    "function K_com_inplace(solucionesn,sigma,iOO,iOF,iFO,iFF)\n",
    "    A=zeros(length(solucionesn),length(solucionesn))\n",
    "    D1=@spawn @views U_block_in_place(A[iOO,iOO],solucionesn[iOO],sigma)\n",
    "    D2=@spawn @views U_block_in_place(A[iOF,iOF],solucionesn[iOF],sigma)\n",
    "    D3=@spawn @views U_block_in_place(A[iFO,iFO],solucionesn[iFO],sigma)\n",
    "    D4=@spawn @views U_block_in_place(A[iFF,iFF],solucionesn[iFF],sigma)\n",
    "    D5=@spawn @views full_block_in_place(A[iOO,iOF],solucionesn[iOO],solucionesn[iOF],sigma)\n",
    "    D6=@spawn @views full_block_in_place(A[iOF,iFO],solucionesn[iOF],solucionesn[iFO],sigma)\n",
    "    D7=@spawn @views full_block_in_place(A[iFO,iFF],solucionesn[iFO],solucionesn[iFF],sigma)\n",
    "    D8=@spawn @views full_block_in_place(A[iOO,iFO],solucionesn[iOO],solucionesn[iFO],sigma)\n",
    "    D9=@spawn @views full_block_in_place(A[iOF,iFF],solucionesn[iOF],solucionesn[iFF],sigma)\n",
    "    D10=@spawn @views full_block_in_place(A[iOO,iFF],solucionesn[iOO],solucionesn[iFF],sigma)\n",
    "    \n",
    "    rD1=fetch(D1)\n",
    "    rD2=fetch(D2)\n",
    "    rD3=fetch(D3)\n",
    "    rD4=fetch(D4)\n",
    "    rD5=fetch(D5)\n",
    "    rD6=fetch(D6)\n",
    "    rD7=fetch(D7)\n",
    "    rD8=fetch(D8)\n",
    "    rD9=fetch(D9)\n",
    "    rD10=fetch(D10)\n",
    "    return Symmetric(A)\n",
    "end\n",
    "\n",
    "soln=Matrix{Float64}[]\n",
    "for i in 1:10000\n",
    "    append!(soln,[rand(50,50)])\n",
    "end\n",
    "iOO=1:2550\n",
    "iOF=2551:5026\n",
    "iFO=5027:7530\n",
    "iFF=7531:10000"
   ]
  },
  {
   "cell_type": "code",
   "execution_count": null,
   "id": "2c90d803",
   "metadata": {},
   "outputs": [],
   "source": [
    "K,K0= K_com_inplace(soln,1.0,iOO,iOF,iFO,iFF)"
   ]
  },
  {
   "cell_type": "code",
   "execution_count": null,
   "id": "496884b9",
   "metadata": {},
   "outputs": [],
   "source": []
  }
 ],
 "metadata": {
  "kernelspec": {
   "display_name": "Julia 1.8.1",
   "language": "julia",
   "name": "julia-1.8"
  },
  "language_info": {
   "file_extension": ".jl",
   "mimetype": "application/julia",
   "name": "julia",
   "version": "1.8.1"
  }
 },
 "nbformat": 4,
 "nbformat_minor": 5
}
