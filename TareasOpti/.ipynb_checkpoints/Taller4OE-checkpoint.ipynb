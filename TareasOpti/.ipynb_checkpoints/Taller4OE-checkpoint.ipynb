{
 "cells": [
  {
   "cell_type": "markdown",
   "id": "37593204",
   "metadata": {},
   "source": [
    "# Taller 4"
   ]
  },
  {
   "cell_type": "markdown",
   "id": "1e3ae54f",
   "metadata": {},
   "source": [
    "Un granjero quiere plantar trigo, maiz o caña de azucar en 500 acres de tierra. Durante el invierno quiere decidir cuanta tierra dedicar a cada cultivo. Se necesitan 200 toneladas de trigo y 240 de maiz para alimentar el ganado, las cuales pueden ser producidos y su excedente vendido, o compradas en el mercado un 40% más caros que el precio de venta. La tonelada de trigo se vende en un precio aleatorio con media 170, el maiz con un precio aleatorio con media 150 y la caña se vende a un promedio de 36 si la cantidad es inferior a 6000 toneladas y a un promedio de 10 si está por encima de esta cantidad. El problema puede ser modelado como un problema de dos etapas con las variables"
   ]
  },
  {
   "cell_type": "markdown",
   "id": "27b36e61",
   "metadata": {},
   "source": [
    "- $x_1$ acres dedicados al trigo\n",
    "- $x_2$ acres dedicados al maiz\n",
    "- $x_3$ acres dedicados a la caña\n",
    "- $w_1$ toneladas de trigo vendido\n",
    "- $y_1$ toneladas de trigo comprado\n",
    "- $w_2$ toneladas de maiz vendido\n",
    "- $y_2$ toneladas de maiz comprado\n",
    "- $w_3$ toneladas de caña vendido a precio alto\n",
    "- $w_4$ toneladas de caña vendido a precio bajo\n"
   ]
  },
  {
   "cell_type": "markdown",
   "id": "a71d9a8c",
   "metadata": {},
   "source": [
    "donde se busca resolver el problema de optimización"
   ]
  },
  {
   "cell_type": "markdown",
   "id": "1d162d12",
   "metadata": {},
   "source": [
    "\\begin{equation}\n",
    "\\begin{split}\n",
    "\\min c^{T}x+E_{\\xi}[Q(x,\\xi)]\\\\\n",
    "st. \\quad x_1+x_2+x_3\\leq 500\\\\\n",
    "x_1,x_2,x_3\\geq 0\n",
    "\\end{split}\n",
    "\\end{equation}"
   ]
  },
  {
   "cell_type": "markdown",
   "id": "d8181214",
   "metadata": {},
   "source": [
    "donde $c=(150,230,260)$ es el vector de precios de plantación por acre de cada cultivo, y $Q(x,\\xi)$ es el óptimo del problema"
   ]
  },
  {
   "cell_type": "markdown",
   "id": "12519887",
   "metadata": {},
   "source": [
    "\\begin{equation}\n",
    "\\begin{split}\n",
    "Q(x,\\xi)=\\min 1.4\\xi_1 y_1-\\xi_1 w_1+1.4\\xi_2 y_2-\\xi_2 w_2 -\\xi_3 w_3 - \\xi_4 w_4\\\\\n",
    "st. \\quad \\xi_5 x_1+y_1-w_1\\geq 200\\\\\n",
    "\\xi_6 x_2+y_2-w_2\\geq 240\\\\\n",
    "w_3+w_4\\leq\\xi_7 x_3\\\\\n",
    "w_3\\leq 6000\\\\\n",
    "y,w\\geq 0\n",
    "\\end{split}\n",
    "\\end{equation}"
   ]
  },
  {
   "cell_type": "markdown",
   "id": "0e92e5df",
   "metadata": {},
   "source": [
    "donde $\\xi=(\\xi_1,\\ldots,\\xi_7)$ y las $\\xi_i$ son variables aleatorias independientes con distribución"
   ]
  },
  {
   "cell_type": "markdown",
   "id": "b726587f",
   "metadata": {},
   "source": [
    "\\begin{equation}\n",
    "\\xi_1\\sim \\begin{cases}\n",
    "        170 & \\text{ con probabilidad } 0.2 \\\\\n",
    "        210 & \\text{ con probabilidad } 0.4\\\\\n",
    "        130 & \\text{ con probabilidad } 0.4\n",
    "    \\end{cases}\n",
    "\\end{equation}\n",
    "\\begin{equation}\n",
    "\\xi_2\\sim \\begin{cases}\n",
    "        150 & \\text{ con probabilidad } 0.2 \\\\\n",
    "        190 & \\text{ con probabilidad } 0.4\\\\\n",
    "        110 & \\text{ con probabilidad } 0.4\n",
    "    \\end{cases}\n",
    "\\end{equation}\n",
    "\\begin{equation}\n",
    "\\xi_3\\sim \\begin{cases}\n",
    "        36 & \\text{ con probabilidad } 0.1 \\\\\n",
    "        45 & \\text{ con probabilidad } 0.45\\\\\n",
    "        27 & \\text{ con probabilidad } 0.45\n",
    "    \\end{cases}\n",
    "\\end{equation}\n",
    "\\begin{equation}\n",
    "\\xi_4\\sim \\begin{cases}\n",
    "        10 & \\text{ con probabilidad } 0.4 \\\\\n",
    "        15 & \\text{ con probabilidad } 0.3\\\\\n",
    "        5 & \\text{ con probabilidad } 0.3\n",
    "    \\end{cases}\n",
    "\\end{equation}\n",
    "\\begin{equation}\n",
    "\\xi_5\\sim \\begin{cases}\n",
    "        2.5 & \\text{ con probabilidad } 0.6 \\\\\n",
    "        3 & \\text{ con probabilidad } 0.2\\\\\n",
    "        2 & \\text{ con probabilidad } 0.2\n",
    "    \\end{cases}\n",
    "\\end{equation}\n",
    "\\begin{equation}\n",
    "\\xi_6\\sim \\begin{cases}\n",
    "        3 & \\text{ con probabilidad } 0.6 \\\\\n",
    "        3.4 & \\text{ con probabilidad } 0.2\\\\\n",
    "        2.6 & \\text{ con probabilidad } 0.2\n",
    "    \\end{cases}\n",
    "\\end{equation}\n",
    "\\begin{equation}\n",
    "\\xi_7\\sim \\begin{cases}\n",
    "        20 & \\text{ con probabilidad } 0.25 \\\\\n",
    "        10 & \\text{ con probabilidad } 0.25\\\\\n",
    "        5 & \\text{ con probabilidad } 0.25\\\\\n",
    "        45 & \\text{ con probabilidad } 0.25\n",
    "    \\end{cases}\n",
    "\\end{equation}"
   ]
  },
  {
   "cell_type": "markdown",
   "id": "9c11ad94",
   "metadata": {},
   "source": [
    "lo que resulta en $4*3^6=2916$ escenarios con diferentes probabilidades."
   ]
  },
  {
   "cell_type": "markdown",
   "id": "17cf8b51",
   "metadata": {},
   "source": [
    "O de otra manera $Q(x,\\xi)=min\\{q^{T}z |Wz\\leq h-Tx, z\\geq 0\\}$ con $z=(y_1,w_1,y_2,w_2,w_3,w_4)$ , $q=(1.4\\xi_1,-\\xi_1,1.4\\xi_2,-\\xi_2,-\\xi_3,-\\xi_4)$ y "
   ]
  },
  {
   "cell_type": "markdown",
   "id": "a88344c3",
   "metadata": {},
   "source": [
    "\\begin{equation}\n",
    "W=\\begin{pmatrix}\n",
    "-1 & 1 & 0 & 0 & 0 & 0\\\\\n",
    "0 & 0 & -1 & 1 & 0 & 0\\\\\n",
    "0 & 0 & 0 & 0 & 1 & 1\\\\\n",
    "0 & 0 & 0 & 0 & 1 & 0\n",
    "\\end{pmatrix}\n",
    "\\end{equation}\n",
    "\n",
    "\\begin{equation}\n",
    "T=\\begin{pmatrix}\n",
    "-\\xi_5 & 0 & 0\\\\\n",
    "0 & -\\xi_6 & 0\\\\\n",
    "0 & 0 & -\\xi_7\\\\\n",
    "0 & 0 & 0\\\\\n",
    "\\end{pmatrix}\n",
    "\\end{equation}\n",
    "\n",
    "\\begin{equation}\n",
    "h=\\begin{pmatrix}\n",
    "-200\\\\\n",
    "-240\\\\\n",
    "0\\\\\n",
    "6000\\\\\n",
    "\\end{pmatrix}\n",
    "\\end{equation}"
   ]
  },
  {
   "cell_type": "markdown",
   "id": "ce24e61f",
   "metadata": {},
   "source": [
    "Construyamos las variables discretas con sus respectivas probabilidades "
   ]
  },
  {
   "cell_type": "code",
   "execution_count": 1,
   "id": "43089616",
   "metadata": {},
   "outputs": [],
   "source": [
    "using .Iterators"
   ]
  },
  {
   "cell_type": "code",
   "execution_count": 3,
   "id": "a114091d",
   "metadata": {},
   "outputs": [],
   "source": [
    "xi1=[170 210 130; 0.2 0.4 0.4]\n",
    "xi2=[150 190 110; 0.2 0.4 0.4]\n",
    "xi3=[36 45 27; 0.1 0.45 0.45]\n",
    "xi4=[10 15 5; 0.4 0.3 0.3]\n",
    "xi5=[2.5 3.0 2.0; 0.6 0.2 0.2]\n",
    "xi6=[3.0 3.4 2.6; 0.6 0.2 0.2]\n",
    "xi7=[20.0 10.0 5.0 45.0; 0.25 0.25 0.25 0.25];"
   ]
  },
  {
   "cell_type": "markdown",
   "id": "2124bf11",
   "metadata": {},
   "source": [
    "Verifiquemos que tienen los valores esperados correctos"
   ]
  },
  {
   "cell_type": "code",
   "execution_count": 4,
   "id": "d9e1e046",
   "metadata": {},
   "outputs": [
    {
     "name": "stdout",
     "output_type": "stream",
     "text": [
      "170.0\n",
      "150.0\n",
      "36.0\n",
      "10.0\n",
      "2.5\n",
      "3.0\n",
      "20.0\n"
     ]
    }
   ],
   "source": [
    "println(sum(xi1[1,:].*xi1[2,:]))\n",
    "println(sum(xi2[1,:].*xi2[2,:]))\n",
    "println(sum(xi3[1,:].*xi3[2,:]))\n",
    "println(sum(xi4[1,:].*xi4[2,:]))\n",
    "println(sum(xi5[1,:].*xi5[2,:]))\n",
    "println(sum(xi6[1,:].*xi6[2,:]))\n",
    "println(sum(xi7[1,:].*xi7[2,:]))"
   ]
  },
  {
   "cell_type": "markdown",
   "id": "9e2ab460",
   "metadata": {},
   "source": [
    "Y ahora construyamos los respectivos 2916 escenarios posibles"
   ]
  },
  {
   "cell_type": "code",
   "execution_count": 5,
   "id": "4512d014",
   "metadata": {},
   "outputs": [],
   "source": [
    "Ts=Matrix{Float64}[]\n",
    "qs=Vector{Float64}[]\n",
    "probs=Float64[]\n",
    "hs=Vector{Float64}[]\n",
    "for ind in product(1:3,1:3,1:3,1:3,1:3,1:3,1:4)\n",
    "    Tn=zeros(4,3)\n",
    "    Tn[1,1]=-xi5[1,ind[5]]\n",
    "    Tn[2,2]=-xi6[1,ind[6]]\n",
    "    Tn[3,3]=-xi7[1,ind[7]]\n",
    "    qn=[1.4*xi1[1,ind[1]],-xi1[1,ind[1]],1.4*xi2[1,ind[2]],-xi2[1,ind[2]],-xi3[1,ind[3]],-xi4[1,ind[4]]]\n",
    "    append!(hs,[[-200.0, -240.0, 0.0, 6000.0]])\n",
    "    append!(Ts,[Tn])\n",
    "    append!(qs,[qn])\n",
    "    append!(probs,xi1[2,ind[1]]*xi2[2,ind[2]]*xi3[2,ind[3]]*xi4[2,ind[4]]*xi5[2,ind[5]]*xi6[2,ind[6]]*xi7[2,ind[7]])\n",
    "end"
   ]
  },
  {
   "cell_type": "code",
   "execution_count": 11,
   "id": "f9a974a8",
   "metadata": {},
   "outputs": [],
   "source": [
    "c=[150.0,230.0,260.0]\n",
    "A=[1 1 1]\n",
    "b=[500]\n",
    "W=[-1.0 1.0 0 0 0 0;0 0 -1.0 1.0 0 0;0 0 0 0 1 1;0 0 0 0 1 0];"
   ]
  },
  {
   "cell_type": "markdown",
   "id": "0c13d924",
   "metadata": {},
   "source": [
    "# L-shaped"
   ]
  },
  {
   "cell_type": "markdown",
   "id": "5b90f56e",
   "metadata": {},
   "source": [
    "Para resolver este problema de dos etapas, usemos primero el método L-shaped. Para resolver los problemas lineales se usa el solver Mosek con el lenguaje de modelación Jump. Notemos que el problema de segunda estapa es siempre factible para cualquier $x$, ya que $(y_1=200,w_1=0,y_2=200,w_2=0,w_3=0,w_4=0)$ es siempre una solución factible, por lo que solo son necesarios cortes de optimalidad"
   ]
  },
  {
   "cell_type": "code",
   "execution_count": 12,
   "id": "d5ebd2d7",
   "metadata": {},
   "outputs": [],
   "source": [
    "using JuMP\n",
    "using Mosek;\n",
    "using MosekTools;"
   ]
  },
  {
   "cell_type": "code",
   "execution_count": 24,
   "id": "d3962300",
   "metadata": {},
   "outputs": [
    {
     "data": {
      "text/plain": [
       "L_shaped (generic function with 1 method)"
      ]
     },
     "execution_count": 24,
     "metadata": {},
     "output_type": "execute_result"
    }
   ],
   "source": [
    "function L_shaped(c,A,b,W,hs,qs,Ts,probs)\n",
    "    master = Model(Mosek.Optimizer)\n",
    "    set_silent(master)\n",
    "    @variable(master, x[1:length(c)]>=0)\n",
    "    @variable(master, theta)\n",
    "    @constraint(master,A*x.<=b)\n",
    "    @objective(master, Min, c'*x)\n",
    "    seguir=true\n",
    "    optimize!(master)\n",
    "    xv=value.(x)\n",
    "    thetav=-Inf \n",
    "    #println(\"Primero\", xv)\n",
    "    k=1\n",
    "    while seguir\n",
    "        pis=Array{Float64}[]\n",
    "        for i in 1:length(Ts)\n",
    "            esclavo=Model(Mosek.Optimizer)\n",
    "            set_silent(esclavo)\n",
    "            @variable(esclavo, y[1:size(W)[2]]>=0)\n",
    "            @constraint(esclavo,pi,W*y.<=hs[i].-Ts[i]*xv)\n",
    "            @objective(esclavo, Min, qs[i]'*y)\n",
    "            #print(esclavo)\n",
    "            optimize!(esclavo)\n",
    "            append!(pis,[dual.(pi)])\n",
    "        end\n",
    "        Et=zeros(length(c))\n",
    "        e=0.0\n",
    "        for i in 1:length(Ts)\n",
    "            Et+=probs[i]*transpose(Ts[i])*pis[i]\n",
    "            e+=probs[i]*transpose(pis[i])*hs[i]\n",
    "        end\n",
    "        #println(Et)\n",
    "        #println(e)\n",
    "        if abs(e-Et'*xv-thetav)<1e-3\n",
    "            seguir==false\n",
    "            println(\"Acaba con las cotas de optimo \",e-Et'*xv +c'*xv,\"<f^*<\",thetav+c'*xv)\n",
    "            return xv\n",
    "        else\n",
    "            @constraint(master,Et'*x+theta>=e)\n",
    "            @objective(master, Min, c'*x+theta)\n",
    "            println(\"Iteracion \",k)\n",
    "            #println(\"Sigue porque wv es \",e-Et'*xv,\" y theta es \", thetav)\n",
    "            println(\"Cotas: \",e-Et'*xv +c'*xv,\" <f*< \",thetav+c'*xv)\n",
    "            optimize!(master)\n",
    "            xv=value.(x)\n",
    "            thetav=value.(theta)\n",
    "            #readline()\n",
    "        end\n",
    "        k+=1\n",
    "    end\n",
    "end"
   ]
  },
  {
   "cell_type": "markdown",
   "id": "7e72b030",
   "metadata": {},
   "source": [
    "Ahora evaluamos la velocidad y precisión del método"
   ]
  },
  {
   "cell_type": "code",
   "execution_count": 26,
   "id": "13201063",
   "metadata": {},
   "outputs": [
    {
     "name": "stdout",
     "output_type": "stream",
     "text": [
      "Iteracion 1\n",
      "Cotas: 98000.00000000047 <f*< -Inf\n",
      "Iteracion 2\n",
      "Cotas: 1249.9999999979918 <f*< -132000.00000000227\n",
      "Iteracion 3\n",
      "Cotas: -72253.84707233954 <f*< -127269.23063571572\n",
      "Iteracion 4\n",
      "Cotas: -57017.64694917368 <f*< -115923.52921694727\n",
      "Iteracion 5\n",
      "Cotas: -59508.24294854705 <f*< -97192.26319299375\n",
      "Iteracion 6\n",
      "Cotas: -78403.72250304617 <f*< -92314.38240062208\n",
      "Iteracion 7\n",
      "Cotas: -87382.66666573922 <f*< -87766.66666553765\n",
      "Iteracion 8\n",
      "Cotas: -87241.5384596926 <f*< -87625.53845479152\n",
      "Iteracion 9\n",
      "Cotas: -87128.57648088655 <f*< -87426.50751531965\n",
      "Acaba con las cotas de optimo -87382.66666665515<f^*<-87382.66666665445\n",
      " 13.584293 seconds (57.92 M allocations: 2.249 GiB, 2.97% gc time)\n"
     ]
    },
    {
     "data": {
      "text/plain": [
       "3-element Vector{Float64}:\n",
       " 286.6666666667749\n",
       "  79.99999999979212\n",
       " 133.33333333340516"
      ]
     },
     "execution_count": 26,
     "metadata": {},
     "output_type": "execute_result"
    }
   ],
   "source": [
    "@time L_shaped(c,A,b,W,hs,qs,Ts,probs)"
   ]
  },
  {
   "cell_type": "markdown",
   "id": "88fda53f",
   "metadata": {},
   "source": [
    "Vemos que el método converge agregando 9 cortes de optimalidad y tarde aproximadamente 13 segundos de cálculo. Halla un óptimo de primera etapa correspondiente a plantar 286.66 acres de trigo, 80 acres de maiz y 133.333 acres de caña de azucar. La respuesta varía al caso determinista del libro por la nueva incertidumbre introducida, particularmente la gran varianza añadida en el el yield de la caña, por lo que ya no es tan buena idea plantear las 300 que sugiere el problema determinista a pesar que los valores esperados de las variables sean los mismos."
   ]
  },
  {
   "cell_type": "markdown",
   "id": "e585ec29",
   "metadata": {},
   "source": [
    "# L-shaped multicorte"
   ]
  },
  {
   "cell_type": "markdown",
   "id": "8fe7b00d",
   "metadata": {},
   "source": [
    "Ahora implementemos el método multicorte, añadiendo en cada iteración más de un corte."
   ]
  },
  {
   "cell_type": "code",
   "execution_count": 53,
   "id": "94991cf1",
   "metadata": {},
   "outputs": [
    {
     "data": {
      "text/plain": [
       "L_shaped_multicorte (generic function with 1 method)"
      ]
     },
     "execution_count": 53,
     "metadata": {},
     "output_type": "execute_result"
    }
   ],
   "source": [
    "function L_shaped_multicorte(c,A,b,W,hs,qs,Ts,probs)\n",
    "    master = Model(Mosek.Optimizer)\n",
    "    set_silent(master)\n",
    "    @variable(master, x[1:length(c)]>=0)\n",
    "    @variable(master, theta[1:length(Ts)])\n",
    "    @constraint(master,A*x.<=b)\n",
    "    @objective(master, Min, c'*x)\n",
    "    seguir=true\n",
    "    optimize!(master)\n",
    "    xv=value.(x)\n",
    "    thetav=repeat([-Inf], length(Ts))\n",
    "    #println(\"Primero\", xv)\n",
    "    k=1\n",
    "    while seguir\n",
    "        cuan=0\n",
    "        aux=[]\n",
    "        for i in 1:length(Ts)\n",
    "            esclavo=Model(Mosek.Optimizer)\n",
    "            set_silent(esclavo)\n",
    "            @variable(esclavo, y[1:size(W)[2]]>=0)\n",
    "            @constraint(esclavo,pi,W*y.<=hs[i].-Ts[i]*xv)\n",
    "            @objective(esclavo, Min, qs[i]'*y)\n",
    "            #print(esclavo)\n",
    "            optimize!(esclavo)\n",
    "            E=probs[i]*dual.(pi)'*Ts[i]\n",
    "            e=probs[i]*dual.(pi)'*hs[i]\n",
    "            append!(aux,e-(E*xv)[1])\n",
    "            if thetav[i]<e-(E*xv)[1]\n",
    "                #append!(aux,e-(E*xv)[1])\n",
    "                @constraint(master,E*x+theta[i]>=e)\n",
    "                cuan+=1\n",
    "            end\n",
    "        end\n",
    "        if cuan==0\n",
    "            seguir==false\n",
    "            println(\"Cotas finales: \",c'*xv+sum(aux),\" <f*< \",c'*xv+sum(thetav))\n",
    "            return xv\n",
    "        else\n",
    "            @objective(master, Min, c'*x+sum([theta[i] for i in 1:length(Ts)]))\n",
    "            println(\"Iteracion \",k)\n",
    "            println(\"Sigue porque hay \",cuan,\" menores\")\n",
    "            println(\"Cotas: \",c'*xv+sum(aux),\" <f*< \",c'*xv+sum(thetav))\n",
    "            optimize!(master)\n",
    "            xv=value.(x)\n",
    "            #println(xv)\n",
    "            thetav=value.(theta)\n",
    "            #readline()\n",
    "        end\n",
    "        k+=1\n",
    "    end\n",
    "end"
   ]
  },
  {
   "cell_type": "markdown",
   "id": "94b0d35e",
   "metadata": {},
   "source": [
    "Y evaluemos su funcionamiento"
   ]
  },
  {
   "cell_type": "code",
   "execution_count": 55,
   "id": "95e30d11",
   "metadata": {},
   "outputs": [
    {
     "name": "stdout",
     "output_type": "stream",
     "text": [
      "Iteracion 1\n",
      "Sigue porque hay 2916 menores\n",
      "Cotas: 98000.00000000028 <f*< -Inf\n",
      "Iteracion 2\n",
      "Sigue porque hay 1458 menores\n",
      "Cotas: 1249.9999999998836 <f*< -132000.00000000006\n",
      "Iteracion 3\n",
      "Sigue porque hay 2916 menores\n",
      "Cotas: -77766.66666591485 <f*< -126499.99999990457\n",
      "Iteracion 4\n",
      "Sigue porque hay 2916 menores\n",
      "Cotas: -75855.99999869906 <f*< -113055.99999885773\n",
      "Iteracion 5\n",
      "Sigue porque hay 2187 menores\n",
      "Cotas: -81746.10777909202 <f*< -96070.36604501666\n",
      "Cotas finales: -87382.66664056506 <f*< -87382.66663146898\n",
      "  8.310601 seconds (36.26 M allocations: 1.423 GiB, 2.59% gc time)\n"
     ]
    },
    {
     "data": {
      "text/plain": [
       "3-element Vector{Float64}:\n",
       " 286.6666665944781\n",
       "  80.00000001171964\n",
       " 133.33333331334734"
      ]
     },
     "execution_count": 55,
     "metadata": {},
     "output_type": "execute_result"
    }
   ],
   "source": [
    "@time L_shaped_multicorte(c,A,b,W,hs,qs,Ts,probs)"
   ]
  },
  {
   "cell_type": "markdown",
   "id": "6c01689e",
   "metadata": {},
   "source": [
    "Vemos que converge a lo mismo que L-shaped y más rápido, en 5 iteraciones completas y 8 segundos."
   ]
  },
  {
   "cell_type": "markdown",
   "id": "5b6dc26d",
   "metadata": {},
   "source": [
    "# Subgradiente proyectado"
   ]
  },
  {
   "cell_type": "markdown",
   "id": "c63d764e",
   "metadata": {},
   "source": [
    "Ahora usemos un método de subgradiente proyectado para resolver el problema"
   ]
  },
  {
   "cell_type": "markdown",
   "id": "d0881389",
   "metadata": {},
   "source": [
    "Si queremos minimizar la función $f(x)=c^{T}x+D(x)$ restringido al conjunto $K_1$ con $D(x)=\\sum_{i=1}^{N}p_i Q(x,s_i)$, podríamos implementar un método de subgradiente proyectado, realizando iteraciones de la forma\n",
    "\\begin{equation}\n",
    "x_{k+1}=\\Pi_{K_1}(x_{k}-\\alpha_k g_k)\n",
    "\\end{equation}\n",
    "donde $\\Pi_{K_1}$ es la proyección en $K_1$, $g_k$ es cualquier elemento del subgradiente de $f(x)$ y $\\alpha_k$ es el tamaño de paso, que se puede elegir como se suguiere en las notas por el paso de Polyak, dado por\n",
    "\\begin{equation}\n",
    "\\alpha_k=\\frac{f(x_k)-f^*}{||g_k||_2^2}\n",
    "\\end{equation}\n",
    "donde $f^*$ es el óptimo real del problema, que podríamos tomar de los métodos usados anteriormente, o aproximarlo mediante\n",
    "\\begin{equation}\n",
    "\\alpha_k=\\frac{f(x_k)-f_{k}^{best}+\\gamma_k}{||g_k||_2^2}\n",
    "\\end{equation}\n",
    "con $f_{k}^{best}$ el mejor valor óptimo encontrado hasta el momento y $\\gamma_k \\to 0$.\n",
    "\n",
    "Otra manera de escoger el paso sería una sucesión escogida a priori que podría ser de la forma\n",
    "\\begin{equation}\n",
    "\\alpha_k=\\frac{1}{k}.\n",
    "\\end{equation}\n",
    "\n",
    "Los subgradientes los podemos encontrar usando que \n",
    "\\begin{equation}\n",
    "\\partial D(x)=\\sum_{i=1}^{N}p_i \\partial Q(x,s_i)\n",
    "\\end{equation}\n",
    "y que \n",
    "\\begin{equation}\n",
    "\\partial Q(x,s_i)=-T_i^{T}\\pi\n",
    "\\end{equation}\n",
    "donde $\\pi$ es una solución óptima del problema dual\n",
    "\\begin{equation}\n",
    "\\begin{split}\n",
    "\\max \\pi^{T}(h_i-T_ix)\\\\\n",
    "s.t \\quad W^T \\pi\\leq q_i.\\\\\n",
    "\\pi\\leq 0\n",
    "\\end{split}\n",
    "\\end{equation}\n",
    "Así, tenemos que\n",
    "\\begin{equation}\n",
    "\\partial f(x)=c+\\partial \\mathcal{D}(x)\n",
    "\\end{equation}\n",
    "\n",
    "Finalmente, la proyección el simplex ampliado en cada iteración la podemos hacer con el algoritmo que sugirió el grupo de Mateo, escalando las variables para tener el simplex de probabilidad y desescalando para obtener la proyección en el espacio real. "
   ]
  },
  {
   "cell_type": "code",
   "execution_count": 60,
   "id": "8b9d72c9",
   "metadata": {},
   "outputs": [],
   "source": [
    "using LinearAlgebra\n",
    "using PyPlot\n",
    "using Clp"
   ]
  },
  {
   "cell_type": "code",
   "execution_count": 69,
   "id": "fee91e67",
   "metadata": {},
   "outputs": [
    {
     "data": {
      "text/plain": [
       "subgradiente_proyectado (generic function with 1 method)"
      ]
     },
     "execution_count": 69,
     "metadata": {},
     "output_type": "execute_result"
    }
   ],
   "source": [
    "function proyectar_en_K1(x0,m)\n",
    "    x=x0./m\n",
    "    if abs(sum(x)-1.0)>1e-5 || sum(x.<=0)>0\n",
    "        u=sort(x, rev=true)\n",
    "        rho=findlast((u.+((1.0.-cumsum(u))./(1:length(x)))).>0)\n",
    "        lambda=(1.0-sum(u[1:rho]))/rho\n",
    "        return clamp.(x .+lambda,0,Inf).*m\n",
    "    else\n",
    "        return x0\n",
    "    end\n",
    "    \n",
    "end\n",
    "\n",
    "function proyectar(x0)\n",
    "    model = Model(Mosek.Optimizer)\n",
    "    set_silent(model)\n",
    "    @variable(model, x[1:length(x0)])\n",
    "    @constraint(model,ones(length(x0))'*x<=120)\n",
    "    @constraint(model,x[1]>=40)\n",
    "    @constraint(model,x[2]>=20)\n",
    "    @objective(model, Min, x[1]^2+x[2]^2-2*x[1]x0[1]-2*x[2]*x0[2])\n",
    "    optimize!(model)\n",
    "    return value.(x)\n",
    "end\n",
    "\n",
    "function Q(xl,W,hi,qi,Ti)\n",
    "    model = Model(Clp.Optimizer)\n",
    "    set_silent(model)\n",
    "    @variable(model, z[1:size(W)[2]]>=0)\n",
    "    @constraint(model,W*z+Ti*xl.<=hi)\n",
    "    @objective(model, Min, qi'*z)\n",
    "    optimize!(model)\n",
    "    return objective_value(model)\n",
    "end\n",
    "\n",
    "function f(x,c,W,hs,qs,Ts,probs)\n",
    "    resp=0.0\n",
    "    for i in 1:length(Ts)\n",
    "        resp+=probs[i]*Q(x,W,hs[i],qs[i],Ts[i])\n",
    "    end\n",
    "    return sum(c.*x)+resp\n",
    "end\n",
    "\n",
    "function paso_polyak(k,f_xk,g_k)\n",
    "    return (f_xk-fopt)/(norm(g_k)^2)\n",
    "end\n",
    "\n",
    "function paso_inverso(k,f_xk,g_k)\n",
    "    return 2.0/k \n",
    "end    \n",
    "\n",
    "function subgradiente_proyectado(c,A,b,W,hs,qs,Ts,probs,tam_paso)\n",
    "    xk=proyectar_en_K1([0.0,0.0,0.0],500)\n",
    "    k=1\n",
    "    x_best=proyectar_en_K1([00.0,00.0,0.0],500)\n",
    "    f_best=f(x_best,c,W,hs,qs,Ts,probs)\n",
    "    f_xk=f(xk,c,W,hs,qs,Ts,probs)\n",
    "    fs=[f_xk]\n",
    "    xks=[xk]\n",
    "    f_bs=[f_best]\n",
    "    while k<100\n",
    "        dQs=[]\n",
    "        #valQ=zeros(length(Ts))\n",
    "        for i in 1:length(Ts)\n",
    "            model = Model(Clp.Optimizer)\n",
    "            set_silent(model)\n",
    "            @variable(model, pi[1:length(hs[1])]<=0)\n",
    "            @constraint(model,transpose(W)*pi.<=qs[i])\n",
    "            @objective(model, Max, pi'*(hs[i]-Ts[i]*xk))\n",
    "            optimize!(model)\n",
    "            append!(dQs,[-transpose(Ts[i])*value.(pi)])\n",
    "            #valQ[i]=objective_value(model)\n",
    "        end\n",
    "        #f_xk=sum(c.*xk)+sum(probs.*valQ)\n",
    "        \n",
    "        dD=sum(probs.*dQs)\n",
    "        gk=c+dD\n",
    "        \n",
    "        alpha_k=tam_paso(k,f_xk,gk)\n",
    "        xn=xk-alpha_k.*gk\n",
    "        xk=proyectar_en_K1(xn,500)\n",
    "        f_xk=f(xk,c,W,hs,qs,Ts,probs)\n",
    "        if f_xk<f_best\n",
    "            f_best=f_xk\n",
    "            x_best=xk\n",
    "        end\n",
    "        append!(fs,f_xk)\n",
    "        append!(xks,[xk])\n",
    "        append!(f_bs,f_best)\n",
    "        if (k-1)%5==0\n",
    "        println(\"Iteracion \",k)\n",
    "        println(\"alphak: \",alpha_k)\n",
    "        println(\"xk: \",xk,\" f_xk:\",f_xk)\n",
    "        println(\"xbest:\",x_best,\" f_best:\",f_best)\n",
    "        end\n",
    "        k+=1\n",
    "    end\n",
    "    return fs,xks,f_bs\n",
    "end"
   ]
  },
  {
   "cell_type": "markdown",
   "id": "5f870458",
   "metadata": {},
   "source": [
    "Evaluemos en primer lugar el desempeño con tamaño de paso $\\alpha_k=\\frac{2}{k}$"
   ]
  },
  {
   "cell_type": "code",
   "execution_count": 70,
   "id": "322cd36d",
   "metadata": {},
   "outputs": [
    {
     "name": "stdout",
     "output_type": "stream",
     "text": [
      "Iteracion 1\n",
      "alphak: 2.0\n",
      "xk: [275.0000000000012, 165.00000000000165, 59.99999999999722] f_xk:-69524.99999999936\n",
      "xbest:[166.66666666666666, 166.66666666666666, 166.66666666666666] f_best:-79416.66666666654\n",
      "Iteracion 6\n",
      "alphak: 0.3333333333333333\n",
      "xk: [245.83333333333496, 96.33333333333532, 157.83333333332965] f_xk:-84234.5833333336\n",
      "xbest:[245.83333333333496, 96.33333333333532, 157.83333333332965] f_best:-84234.5833333336\n",
      "Iteracion 11\n",
      "alphak: 0.18181818181818182\n",
      "xk: [276.623379028381, 92.27687109187391, 131.09974987974508] f_xk:-86677.26419576633\n",
      "xbest:[276.623379028381, 92.27687109187391, 131.09974987974508] f_best:-86677.26419576633\n",
      "Iteracion 16\n",
      "alphak: 0.125\n",
      "xk: [276.29384606134835, 82.76904142154436, 140.93711251710732] f_xk:-86499.3572185786\n",
      "xbest:[276.623379028381, 92.27687109187391, 131.09974987974508] f_best:-86677.26419576633\n",
      "Iteracion 21\n",
      "alphak: 0.09523809523809523\n",
      "xk: [276.30889463048385, 80.98771572167365, 142.70338964784244] f_xk:-86351.87797868103\n",
      "xbest:[281.44286566919163, 85.1180610293875, 133.43907330142093] f_best:-87249.48976759767\n",
      "Iteracion 26\n",
      "alphak: 0.07692307692307693\n",
      "xk: [283.60370183294356, 86.97121877900284, 129.4250793880536] f_xk:-86493.72467984972\n",
      "xbest:[281.44286566919163, 85.1180610293875, 133.43907330142093] f_best:-87249.48976759767\n",
      "Iteracion 31\n",
      "alphak: 0.06451612903225806\n",
      "xk: [282.6868892467466, 84.79565531734735, 132.517455435906] f_xk:-87117.59265908922\n",
      "xbest:[281.44286566919163, 85.1180610293875, 133.43907330142093] f_best:-87249.48976759767\n",
      "Iteracion 36\n",
      "alphak: 0.05555555555555555\n",
      "xk: [281.73477807904726, 83.37685223045604, 134.88836969049666] f_xk:-87135.13117518663\n",
      "xbest:[281.44286566919163, 85.1180610293875, 133.43907330142093] f_best:-87249.48976759767\n",
      "Iteracion 41\n",
      "alphak: 0.04878048780487805\n",
      "xk: [283.08411323577025, 78.615580891476, 138.30030587275374] f_xk:-86732.14902974131\n",
      "xbest:[281.44286566919163, 85.1180610293875, 133.43907330142093] f_best:-87249.48976759767\n",
      "Iteracion 46\n",
      "alphak: 0.043478260869565216\n",
      "xk: [286.8952729138258, 82.15490906657776, 130.94981801959636] f_xk:-86890.42949783942\n",
      "xbest:[284.9923743631012, 81.28679312454878, 133.72083251235006] f_best:-87310.38482855819\n",
      "Iteracion 51\n",
      "alphak: 0.0392156862745098\n",
      "xk: [284.76616845927816, 83.98461008315464, 131.24922145756724] f_xk:-86902.27224967048\n",
      "xbest:[284.9923743631012, 81.28679312454878, 133.72083251235006] f_best:-87310.38482855819\n",
      "Iteracion 56\n",
      "alphak: 0.03571428571428571\n",
      "xk: [284.29550333241815, 82.96065396356958, 132.7438427040123] f_xk:-87203.1473359096\n",
      "xbest:[284.9923743631012, 81.28679312454878, 133.72083251235006] f_best:-87310.38482855819\n",
      "Iteracion 61\n",
      "alphak: 0.03278688524590164\n",
      "xk: [283.8664681345991, 82.0363841346344, 134.09714773076652] f_xk:-87252.09067653833\n",
      "xbest:[284.9923743631012, 81.28679312454878, 133.72083251235006] f_best:-87310.38482855819\n",
      "Iteracion 66\n",
      "alphak: 0.030303030303030304\n",
      "xk: [284.65856815748555, 79.10791685296141, 136.23351498955307] f_xk:-86995.7837376426\n",
      "xbest:[284.9923743631012, 81.28679312454878, 133.72083251235006] f_best:-87310.38482855819\n",
      "Iteracion 71\n",
      "alphak: 0.028169014084507043\n",
      "xk: [283.2719987365916, 80.624937442822, 136.10306382058639] f_xk:-87070.04712814797\n",
      "xbest:[284.8904089535054, 81.85319048480221, 133.2564005616923] f_best:-87324.32817037479\n",
      "Iteracion 76\n",
      "alphak: 0.02631578947368421\n",
      "xk: [285.5934394801472, 82.60898658136207, 131.79757393849073] f_xk:-87036.4572979845\n",
      "xbest:[284.8904089535054, 81.85319048480221, 133.2564005616923] f_best:-87324.32817037479\n",
      "Iteracion 81\n",
      "alphak: 0.024691358024691357\n",
      "xk: [285.2764437983273, 81.94503337121338, 132.7785228304593] f_xk:-87233.73492940023\n",
      "xbest:[285.31999070669843, 81.10709957947506, 133.57290971382653] f_best:-87330.56323577219\n",
      "Iteracion 86\n",
      "alphak: 0.023255813953488372\n",
      "xk: [284.97886308814395, 81.32494374846533, 133.69619316339075] f_xk:-87312.1255737222\n",
      "xbest:[285.31999070669843, 81.10709957947506, 133.57290971382653] f_best:-87330.56323577219\n",
      "Iteracion 91\n",
      "alphak: 0.02197802197802198\n",
      "xk: [285.53894204602227, 79.21018990601291, 135.25086804796484] f_xk:-87110.02967493009\n",
      "xbest:[285.31999070669843, 81.10709957947506, 133.57290971382653] f_best:-87330.56323577219\n",
      "Iteracion 96\n",
      "alphak: 0.020833333333333332\n",
      "xk: [284.5194343614547, 80.30389244385461, 135.17667319469064] f_xk:-87177.27499140747\n",
      "xbest:[285.31999070669843, 81.10709957947506, 133.57290971382653] f_best:-87330.56323577219\n",
      "198.632718 seconds (1.13 G allocations: 44.130 GiB, 3.37% gc time, 0.17% compilation time)\n"
     ]
    }
   ],
   "source": [
    "@time fs,xks,f_bs=subgradiente_proyectado(c,A,b,W,hs,qs,Ts,probs,paso_inverso);"
   ]
  },
  {
   "cell_type": "markdown",
   "id": "5914dd87",
   "metadata": {},
   "source": [
    "Con 100 iteraciones el algoritmo parece estar convergiendo a la misma solución encontrada anteriormente, pero a una tasa muy lenta y cada iteración es muy costosa, por lo que le toma casi 200 segundos alcanzar este resultado, que está muy lejos de ser preciso. Veamos la siguiente gráfica de convergencia comparada con el óptimo calculado con los métodos anteriores"
   ]
  },
  {
   "cell_type": "code",
   "execution_count": 79,
   "id": "64f20397",
   "metadata": {},
   "outputs": [
    {
     "data": {
      "image/png": "[encoded data removed]",
      "text/plain": [
       "Figure(PyObject <Figure size 640x480 with 1 Axes>)"
      ]
     },
     "metadata": {},
     "output_type": "display_data"
    },
    {
     "data": {
      "text/plain": [
       "PyObject <matplotlib.legend.Legend object at 0x7f5167a2fa30>"
      ]
     },
     "execution_count": 79,
     "metadata": {},
     "output_type": "execute_result"
    }
   ],
   "source": [
    "plot(fs.-fopt,label=\"error f_k\")\n",
    "plot(f_bs.-fopt,label=\"mejor error\")\n",
    "xlabel(\"iteracion\")\n",
    "ylabel(L\"f_k-f*\")\n",
    "grid()\n",
    "legend()"
   ]
  },
  {
   "cell_type": "markdown",
   "id": "12e9e697",
   "metadata": {},
   "source": [
    "Vemos que el error disminuye, pero disminuye lentamente. Esto se debe a la no suavidad de la función y al inconveniente que supone proyectar. Encontrar una esquina de una función no suave y proyectando en cada paso no es una buena forma de hallar óptimos."
   ]
  },
  {
   "cell_type": "markdown",
   "id": "599215c9",
   "metadata": {},
   "source": [
    "Ahora examinemos el comportamiento con el paso de Polyak con el óptimo verdadero"
   ]
  },
  {
   "cell_type": "code",
   "execution_count": 81,
   "id": "87be490e",
   "metadata": {},
   "outputs": [
    {
     "name": "stdout",
     "output_type": "stream",
     "text": [
      "Iteracion 1\n",
      "alphak: 0.05237989549851007\n",
      "xk: [169.50391100616932, 166.62301675375127, 163.87307224007938] f_xk:-79719.37881273558\n",
      "xbest:[169.50391100616932, 166.62301675375127, 163.87307224007938] f_best:-79719.37881273558\n",
      "Iteracion 6\n",
      "alphak: 0.043155764332337976\n",
      "xk: [182.15252303584634, 166.42842272252565, 151.41905424162806] f_xk:-81068.88841928601\n",
      "xbest:[182.15252303584634, 166.42842272252565, 151.41905424162806] f_best:-81068.88841928601\n",
      "Iteracion 11\n",
      "alphak: 0.03555600822382748\n",
      "xk: [192.57370686389444, 166.2680968174789, 141.15819631862658] f_xk:-82180.74857078603\n",
      "xbest:[192.57370686389444, 166.2680968174789, 141.15819631862658] f_best:-82180.74857078603\n",
      "Iteracion 16\n",
      "alphak: 0.02929457374632867\n",
      "xk: [201.1597139390712, 166.13600440093788, 132.7042816599909] f_xk:-82912.81186504677\n",
      "xbest:[199.57292452781172, 166.1604165457265, 134.26665892646182] f_best:-82927.51125539048\n",
      "Iteracion 21\n",
      "alphak: 0.027678350027865246\n",
      "xk: [204.6538140441327, 163.4853593695045, 131.8608265863628] f_xk:-82902.55815315533\n",
      "xbest:[203.15457008429, 163.50842466119437, 133.33700525451565] f_best:-83173.30857877404\n",
      "Iteracion 26\n",
      "alphak: 0.012478812648099392\n",
      "xk: [205.94227809509024, 159.63197891077755, 134.42574299413218] f_xk:-83269.47378803806\n",
      "xbest:[205.94227809509024, 159.63197891077755, 134.42574299413218] f_best:-83269.47378803806\n",
      "Iteracion 31\n",
      "alphak: 0.026538994969004578\n",
      "xk: [209.2636127009861, 157.22129581057385, 133.51509148844005] f_xk:-83499.9563954111\n",
      "xbest:[209.2636127009861, 157.22129581057385, 133.51509148844005] f_best:-83499.9563954111\n",
      "Iteracion 36\n",
      "alphak: 0.02514126433005933\n",
      "xk: [212.3450700056403, 154.8067099851719, 132.84822000918777] f_xk:-83562.5516525153\n",
      "xbest:[212.3450700056403, 154.8067099851719, 132.84822000918777] f_best:-83562.5516525153\n",
      "Iteracion 41\n",
      "alphak: 0.023748642282832567\n",
      "xk: [215.34695103336614, 152.54082991516242, 132.1122190514714] f_xk:-83551.01487918763\n",
      "xbest:[214.06056624304608, 152.56062045039812, 133.37881330655586] f_best:-83770.9434447733\n",
      "Iteracion 46\n",
      "alphak: 0.010676638934216484\n",
      "xk: [216.45648122939255, 149.2444647150265, 134.29905405558102] f_xk:-83854.40612969818\n",
      "xbest:[216.45648122939255, 149.2444647150265, 134.29905405558102] f_best:-83854.40612969818\n",
      "Iteracion 51\n",
      "alphak: 0.02276189971123936\n",
      "xk: [219.3073068917299, 147.1812916135072, 133.5114014947628] f_xk:-84052.55330057038\n",
      "xbest:[219.3073068917299, 147.1812916135072, 133.5114014947628] f_best:-84052.55330057038\n",
      "Iteracion 56\n",
      "alphak: 0.02156076386864034\n",
      "xk: [221.9516073945836, 145.11398441507367, 132.9344081903427] f_xk:-84111.59637238397\n",
      "xbest:[221.9516073945836, 145.11398441507367, 132.9344081903427] f_best:-84111.59637238397\n",
      "Iteracion 61\n",
      "alphak: 0.020364741483340214\n",
      "xk: [224.5269633098767, 143.17359976342593, 132.29943692669738] f_xk:-84100.84784445113\n",
      "xbest:[223.42387314619575, 143.19057038132866, 133.3855564724755] f_best:-84285.57130823609\n",
      "Iteracion 66\n",
      "alphak: 0.009145828224213146\n",
      "xk: [225.47964792493704, 140.3500270013902, 134.17032507367273] f_xk:-84357.4385695039\n",
      "xbest:[225.47964792493704, 140.3500270013902, 134.17032507367273] f_best:-84357.4385695039\n",
      "Iteracion 71\n",
      "alphak: 0.01951573948785366\n",
      "xk: [227.9245915254996, 138.58247076370986, 133.4929377107905] f_xk:-84527.47330408588\n",
      "xbest:[227.9245915254996, 138.58247076370986, 133.4929377107905] f_best:-84527.47330408588\n",
      "Iteracion 76\n",
      "alphak: 0.018485172826096113\n",
      "xk: [230.1922170966323, 136.81112411098374, 132.99665879238393] f_xk:-84579.77005048702\n",
      "xbest:[230.1922170966323, 136.81112411098374, 132.99665879238393] f_best:-84579.77005048702\n",
      "Iteracion 81\n",
      "alphak: 0.01745921911700512\n",
      "xk: [232.40051369918785, 135.14840563992303, 132.45108066088912] f_xk:-84570.28761206858\n",
      "xbest:[231.45480599701673, 135.16295498918717, 133.38223901379607] f_best:-84727.44678161129\n",
      "Iteracion 86\n",
      "alphak: 0.007837980385650832\n",
      "xk: [233.21766536409072, 132.72865255181475, 134.0536820840945] f_xk:-84789.15328561001\n",
      "xbest:[233.21766536409072, 132.72865255181475, 134.0536820840945] f_best:-84789.15328561001\n",
      "Iteracion 91\n",
      "alphak: 0.016730454228194937\n",
      "xk: [235.3138808742649, 131.21379326223902, 133.47232586349614] f_xk:-84934.96634025153\n",
      "xbest:[235.3138808742649, 131.21379326223902, 133.47232586349614] f_best:-84934.96634025153\n",
      "Iteracion 96\n",
      "alphak: 0.015846741976435676\n",
      "xk: [237.25800820525308, 129.69560765116424, 133.04638414358269] f_xk:-84980.32264574846\n",
      "xbest:[237.25800820525308, 129.69560765116424, 133.04638414358269] f_best:-84980.32264574846\n",
      "205.346630 seconds (1.13 G allocations: 44.095 GiB, 3.27% gc time, 0.11% compilation time)\n"
     ]
    }
   ],
   "source": [
    "@time fspol,xkspol,f_bspol=subgradiente_proyectado(c,A,b,W,hs,qs,Ts,probs,paso_polyak);"
   ]
  },
  {
   "cell_type": "markdown",
   "id": "b0895c70",
   "metadata": {},
   "source": [
    "En este caso vemos que desde el principio los pasos de este estilo son muy pequeños, por lo que la convergencia es aún más lenta, aún cuando el paso se está calculando con el óptimo verdadero. No sé por qué sucede esto. En las mismas 100 iteraciones no se alcanzó una convergencia parecida a la que se obtuvo con el paso elegido a priori. Veamos la gráfica del error absoluto"
   ]
  },
  {
   "cell_type": "code",
   "execution_count": 82,
   "id": "8fc6dd26",
   "metadata": {},
   "outputs": [
    {
     "data": {
      "image/png": "[encoded data removed]",
      "text/plain": [
       "Figure(PyObject <Figure size 640x480 with 1 Axes>)"
      ]
     },
     "metadata": {},
     "output_type": "display_data"
    },
    {
     "data": {
      "text/plain": [
       "PyObject <matplotlib.legend.Legend object at 0x7f516797beb0>"
      ]
     },
     "execution_count": 82,
     "metadata": {},
     "output_type": "execute_result"
    }
   ],
   "source": [
    "plot(fspol.-fopt,label=\"error f_k\")\n",
    "plot(f_bspol.-fopt,label=\"mejor error\")\n",
    "xlabel(\"iteracion\")\n",
    "ylabel(L\"f_k-f*\")\n",
    "grid()\n",
    "legend()"
   ]
  },
  {
   "cell_type": "markdown",
   "id": "85c6d84b",
   "metadata": {},
   "source": [
    "Se muestra una convergencia, pero mucho más lenta."
   ]
  },
  {
   "cell_type": "markdown",
   "id": "110d898c",
   "metadata": {},
   "source": [
    "Para estos métodos de descenso de gradiente no encontré un criterio de parada del algoritmo con alguna útilidad práctica, pues el tiempo de computo se extendía mucho y no se obtienen soluciones con la precisión suficiente."
   ]
  },
  {
   "cell_type": "markdown",
   "id": "0a0c4ace",
   "metadata": {},
   "source": [
    "# Resolver forma extendida"
   ]
  },
  {
   "cell_type": "markdown",
   "id": "36161acf",
   "metadata": {},
   "source": [
    "Finalmente, decidí probar resolviendo el sistema completo directamente, esperando que la optimización de un solver profesional en un problema grande le ganara a mi implementación con algoritmos más especializados pero no optimizados en código."
   ]
  },
  {
   "cell_type": "code",
   "execution_count": 83,
   "id": "392de324",
   "metadata": {},
   "outputs": [
    {
     "data": {
      "text/plain": [
       "forma_extendida (generic function with 1 method)"
      ]
     },
     "execution_count": 83,
     "metadata": {},
     "output_type": "execute_result"
    }
   ],
   "source": [
    "function forma_extendida(c,A,b,W,hs,qs,Ts,probs)\n",
    "    master = Model(Mosek.Optimizer)\n",
    "    set_silent(master)\n",
    "    @variable(master, x[1:length(c)]>=0)\n",
    "    @variable(master, y[1:length(Ts),1:size(W)[2]]>=0)\n",
    "    @constraint(master,A*x.<=b)\n",
    "    @constraint(master,cs[k=1:length(Ts)],W*y[k,:]+Ts[k]*x.<=hs[k])\n",
    "    @objective(master, Min, (c'*x)+sum([probs[k]*(qs[k]'*y[k,:]) for k in 1:length(Ts)]))\n",
    "    optimize!(master)\n",
    "    return value.(x),objective_value(master)\n",
    "end"
   ]
  },
  {
   "cell_type": "code",
   "execution_count": 86,
   "id": "cff37b96",
   "metadata": {},
   "outputs": [
    {
     "name": "stdout",
     "output_type": "stream",
     "text": [
      "  0.163808 seconds (996.54 k allocations: 78.657 MiB, 13.23% gc time)\n"
     ]
    },
    {
     "data": {
      "text/plain": [
       "([286.6666666315809, 80.00000003088344, 133.333333336458], -87382.66664894932)"
      ]
     },
     "execution_count": 86,
     "metadata": {},
     "output_type": "execute_result"
    }
   ],
   "source": [
    "@time xsol,fopt=forma_extendida(c,A,b,W,hs,qs,Ts,probs)"
   ]
  },
  {
   "cell_type": "markdown",
   "id": "d3c38d23",
   "metadata": {},
   "source": [
    "En efecto, el tiempo de solución es un orden de magnitud menor a los métodos que implementé y se obtienen las mismas respuestas. El tamaño del problema permite resolverse directamente con programación lineal en el problema grande, lo que está muy optimizado en un solver comercial como Mosek."
   ]
  },
  {
   "cell_type": "markdown",
   "id": "6fd213ad",
   "metadata": {},
   "source": [
    "# Comparación "
   ]
  },
  {
   "cell_type": "markdown",
   "id": "65f3bbc5",
   "metadata": {},
   "source": [
    "Los cuatro métodos convergieron a la misma solución. El método L-shape y L-shape multicorte tienen desempeños parecidos en mi implementación, siendo este último un poco más efectivo para este problema. El método de descenso de gradiente no fue muy efectivo para óptimizar este tipo de funciones dada la complejidad computacional en cada iteración y la baja tasa de convergencia, además es muy suceptible a la escogencia del tamaño de paso. El método directo proporciona soluciones rápidas al problema, gracias a su tamaño aceptable y la optimización de código del software comercial. Por lo tanto este método se prefiere para los cálculos subsecuentes.\n",
    "\n",
    "La solución obtenida difiere de la del caso determinista obtenida en el libro por la nueva incertidumbre que hace algunos escenarios muy desfavorables que se prefieren evitar. Con las variables que elegí ya no es rentable plantar caña por el alto riesgo que se toma de no cosechar casi nada, aún si el valor esperado de la variable aleatoria subyacente es el mismo que en el caso determinista. "
   ]
  },
  {
   "cell_type": "markdown",
   "id": "4df27fd1",
   "metadata": {},
   "source": [
    "# Variables Continuas y estimación de la brecha de óptimalidad"
   ]
  },
  {
   "cell_type": "markdown",
   "id": "268ed3a0",
   "metadata": {},
   "source": [
    "Ahora supongamos que las variables $\\xi_i$ se distribuyen como variables aleatorias normales truncadas a los valores positivos: "
   ]
  },
  {
   "cell_type": "markdown",
   "id": "00b99858",
   "metadata": {},
   "source": [
    "- $\\xi_1 \\sim \\mathcal{N}_+(170,30)$\n",
    "- $\\xi_2 \\sim \\mathcal{N}_+(150,30)$\n",
    "- $\\xi_3 \\sim \\mathcal{N}_+(36,5)$\n",
    "- $\\xi_4 \\sim \\mathcal{N}_+(10,5)$\n",
    "- $\\xi_5 \\sim \\mathcal{N}_+(2.5,1)$\n",
    "- $\\xi_6 \\sim \\mathcal{N}_+(3,1)$\n",
    "- $\\xi_7 \\sim \\mathcal{N}_+(20,10)$"
   ]
  },
  {
   "cell_type": "markdown",
   "id": "42d7dca8",
   "metadata": {},
   "source": [
    "Construyamos entonces una muestra iid de la incertidumbre de tamaño $n=3000$, asignando a todos los escenarios la misma probabilidad"
   ]
  },
  {
   "cell_type": "code",
   "execution_count": 88,
   "id": "056fdbec",
   "metadata": {},
   "outputs": [
    {
     "name": "stderr",
     "output_type": "stream",
     "text": [
      "WARNING: using Distributions.probs in module Main conflicts with an existing identifier.\n"
     ]
    },
    {
     "data": {
      "text/plain": [
       "Truncated(Normal{Float64}(μ=20.0, σ=10.0); lower=0.0, upper=1000.0)"
      ]
     },
     "execution_count": 88,
     "metadata": {},
     "output_type": "execute_result"
    }
   ],
   "source": [
    "using Distributions\n",
    "xid1=Truncated(Normal(170, 30),0,1000)\n",
    "xid2=Truncated(Normal(150, 30),0,1000)\n",
    "xid3=Truncated(Normal(36, 5),0,1000)\n",
    "xid4=Truncated(Normal(10, 5),0,1000)\n",
    "xid5=Truncated(Normal(2.5, 1),0,1000)\n",
    "xid6=Truncated(Normal(3, 1),0,1000)\n",
    "xid7=Truncated(Normal(20, 10),0,1000)"
   ]
  },
  {
   "cell_type": "code",
   "execution_count": 89,
   "id": "b0afc516",
   "metadata": {},
   "outputs": [
    {
     "data": {
      "text/plain": [
       "generar_muestra (generic function with 1 method)"
      ]
     },
     "execution_count": 89,
     "metadata": {},
     "output_type": "execute_result"
    }
   ],
   "source": [
    "function generar_muestra(n)\n",
    "    Ts=[]\n",
    "    qs=[]\n",
    "    probs=[]\n",
    "    hs=[]\n",
    "    for i in 1:n\n",
    "        Tn=zeros(4,3)\n",
    "        Tn[1,1]=-rand(xid5)\n",
    "        Tn[2,2]=-rand(xid6)\n",
    "        Tn[3,3]=-rand(xid7)\n",
    "        xi1a=rand(xid1)\n",
    "        xi2a=rand(xid2)\n",
    "        xi3a=rand(xid3)\n",
    "        xi4a=rand(xid4)\n",
    "        qn=[1.4*xi1a,-xi1a,1.4*xi2a,-xi2a,-xi3a,-xi4a]\n",
    "        append!(hs,[[-200.0, -240.0, 0.0, 6000.0]])\n",
    "        append!(Ts,[Tn])\n",
    "        append!(qs,[qn])\n",
    "        append!(probs,1.0/n)\n",
    "    end\n",
    "    return Ts,qs,probs,hs\n",
    "end"
   ]
  },
  {
   "cell_type": "code",
   "execution_count": 90,
   "id": "ba824fca",
   "metadata": {},
   "outputs": [],
   "source": [
    "c=[150.0,230.0,260.0]\n",
    "A=[1 1 1]\n",
    "b=[500]\n",
    "W=[-1.0 1.0 0 0 0 0;0 0 -1.0 1.0 0 0;0 0 0 0 1 1;0 0 0 0 1 0]\n",
    "Ts,qs,probs,hs=generar_muestra(3000);"
   ]
  },
  {
   "cell_type": "markdown",
   "id": "47c2e9e3",
   "metadata": {},
   "source": [
    "Y resolvamos el problema con el método directo implementado anteriormente"
   ]
  },
  {
   "cell_type": "code",
   "execution_count": 91,
   "id": "cf7ad38a",
   "metadata": {},
   "outputs": [
    {
     "name": "stdout",
     "output_type": "stream",
     "text": [
      "  0.535635 seconds (2.12 M allocations: 139.473 MiB, 6.87% gc time, 67.25% compilation time: 11% of which was recompilation)\n"
     ]
    },
    {
     "data": {
      "text/plain": [
       "([194.03793042705377, 84.87477257430977, 221.08729698863152], -99110.83116706034)"
      ]
     },
     "execution_count": 91,
     "metadata": {},
     "output_type": "execute_result"
    }
   ],
   "source": [
    "@time xhat,obj=forma_extendida(c,A,b,W,hs,qs,Ts,probs)"
   ]
  },
  {
   "cell_type": "markdown",
   "id": "4983cc11",
   "metadata": {},
   "source": [
    "Con esta muestra obtuvimos la solución óptima de variables de primera etapa de $\\hat{x}=(194.03,84.87,221.08)$"
   ]
  },
  {
   "cell_type": "code",
   "execution_count": 92,
   "id": "15389b38",
   "metadata": {},
   "outputs": [
    {
     "data": {
      "text/plain": [
       "calcular_Qs (generic function with 1 method)"
      ]
     },
     "execution_count": 92,
     "metadata": {},
     "output_type": "execute_result"
    }
   ],
   "source": [
    "function calcular_Qs(xhat,c,W,hs,qs,Ts)\n",
    "    Qs=[]\n",
    "    for i in 1:length(Ts)\n",
    "        append!(Qs,Q(xhat,W,hs[i],qs[i],Ts[i]))\n",
    "    end\n",
    "    return Qs\n",
    "end"
   ]
  },
  {
   "cell_type": "markdown",
   "id": "0a21849a",
   "metadata": {},
   "source": [
    "Generemos ahora otra muestra de tamaño $N=15000$ para calcular estimadores de $\\mathcal{D}(\\hat{x})$ y usemola para cálcular su media y varianza"
   ]
  },
  {
   "cell_type": "code",
   "execution_count": 94,
   "id": "879b9fa6",
   "metadata": {},
   "outputs": [],
   "source": [
    "Ts,qs,probs,hs=generar_muestra(15000);"
   ]
  },
  {
   "cell_type": "code",
   "execution_count": 95,
   "id": "34e9c85d",
   "metadata": {},
   "outputs": [],
   "source": [
    "Qs=calcular_Qs(xhat,c,W,hs,qs,Ts);"
   ]
  },
  {
   "cell_type": "markdown",
   "id": "ff50b5ac",
   "metadata": {},
   "source": [
    "La media es"
   ]
  },
  {
   "cell_type": "code",
   "execution_count": 96,
   "id": "fd5e947e",
   "metadata": {},
   "outputs": [
    {
     "data": {
      "text/plain": [
       "-203776.71512030283"
      ]
     },
     "execution_count": 96,
     "metadata": {},
     "output_type": "execute_result"
    }
   ],
   "source": [
    "mean(Qs)"
   ]
  },
  {
   "cell_type": "markdown",
   "id": "abc9f4cb",
   "metadata": {},
   "source": [
    "Y su varianza es "
   ]
  },
  {
   "cell_type": "code",
   "execution_count": 98,
   "id": "42d826bd",
   "metadata": {},
   "outputs": [
    {
     "data": {
      "text/plain": [
       "5.832118936030359e9"
      ]
     },
     "execution_count": 98,
     "metadata": {},
     "output_type": "execute_result"
    }
   ],
   "source": [
    "var(Qs)"
   ]
  },
  {
   "cell_type": "markdown",
   "id": "f2950cf6",
   "metadata": {},
   "source": [
    "Lo que corresponde a un valor de $f(\\hat{x})$ de"
   ]
  },
  {
   "cell_type": "code",
   "execution_count": 100,
   "id": "ec08c69e",
   "metadata": {},
   "outputs": [
    {
     "data": {
      "text/plain": [
       "-97667.1306471095"
      ]
     },
     "execution_count": 100,
     "metadata": {},
     "output_type": "execute_result"
    }
   ],
   "source": [
    "f(xhat,c,W,hs,qs,Ts,probs)"
   ]
  },
  {
   "cell_type": "markdown",
   "id": "7fb82476",
   "metadata": {},
   "source": [
    "Por el teorema del limite centra esto permite estimar una 99%-cota para $c^{T}\\hat{x}+\\mathcal{D}(\\hat{x})$"
   ]
  },
  {
   "cell_type": "markdown",
   "id": "7b5f2e79",
   "metadata": {},
   "source": [
    "Esta cota superior es "
   ]
  },
  {
   "cell_type": "markdown",
   "id": "1f45dadc",
   "metadata": {},
   "source": [
    "\\begin{equation}\n",
    "c^{T}\\hat{x}+\\mathcal{D}(\\hat{x})+z_{\\alpha}\\frac{\\hat{\\sigma}}{\\sqrt{N}}\n",
    "\\end{equation}"
   ]
  },
  {
   "cell_type": "markdown",
   "id": "1661f123",
   "metadata": {},
   "source": [
    "que corresponde al valor"
   ]
  },
  {
   "cell_type": "code",
   "execution_count": 99,
   "id": "38e8ff1c",
   "metadata": {},
   "outputs": [
    {
     "data": {
      "text/plain": [
       "-96064.62089964887"
      ]
     },
     "execution_count": 99,
     "metadata": {},
     "output_type": "execute_result"
    }
   ],
   "source": [
    "cotaSup=sum(c.*xhat)+mean(Qs)+(2.57*(std(Qs))/(15000^0.5))"
   ]
  },
  {
   "cell_type": "markdown",
   "id": "b2526048",
   "metadata": {},
   "source": [
    "Ahora, podemos estimar $E[\\hat{f}]$ a través de una muestra de muchos problemas como el anterior con diferentes muestras de la incertidumbre. Esta estimación sirve de cota inferior para el óptimo verdadero del problema $f^*$ "
   ]
  },
  {
   "cell_type": "code",
   "execution_count": 103,
   "id": "0d87269a",
   "metadata": {},
   "outputs": [
    {
     "data": {
      "text/plain": [
       "muestrear_optimos (generic function with 1 method)"
      ]
     },
     "execution_count": 103,
     "metadata": {},
     "output_type": "execute_result"
    }
   ],
   "source": [
    "function muestrear_optimos(n,M)\n",
    "    opts=[]\n",
    "    for i in 1:M\n",
    "        Ts,qs,probs,hs=generar_muestra(n)\n",
    "        xhat,obj=forma_extendida(c,A,b,W,hs,qs,Ts,probs)\n",
    "        append!(opts,obj)\n",
    "    end\n",
    "    return opts\n",
    "end"
   ]
  },
  {
   "cell_type": "markdown",
   "id": "5b423088",
   "metadata": {},
   "source": [
    "En este caso sampleemos 300 muestras diferentes de la incertidumbre, cada una de tamaño 3000 y calculemos la cota inferior para $E[\\hat{f}]$ que a su vez sirve de cota inferior para $f^*$"
   ]
  },
  {
   "cell_type": "code",
   "execution_count": 104,
   "id": "b2ff17e2",
   "metadata": {},
   "outputs": [
    {
     "data": {
      "text/plain": [
       "300-element Vector{Any}:\n",
       "  -98637.33984393258\n",
       "  -99957.54172705658\n",
       "  -97412.6914669939\n",
       "  -97590.48622735092\n",
       "  -97528.11780925773\n",
       "  -98728.58624397987\n",
       "  -97310.6201885208\n",
       "  -97551.82350025931\n",
       " -101969.67781992335\n",
       "  -99069.45706651392\n",
       "  -97787.64975093585\n",
       "  -98219.09896870826\n",
       "  -99357.42097555634\n",
       "       ⋮\n",
       " -102386.7849317521\n",
       "  -98833.2203721907\n",
       " -100353.78239151543\n",
       "  -99213.29896237268\n",
       "  -97066.91231174138\n",
       "  -99926.70453196877\n",
       "  -97841.84129892691\n",
       " -101467.40583112126\n",
       "  -97532.56947671963\n",
       "  -96236.15252470491\n",
       "  -98073.23128226341\n",
       " -101522.28992106926"
      ]
     },
     "execution_count": 104,
     "metadata": {},
     "output_type": "execute_result"
    }
   ],
   "source": [
    "opts=muestrear_optimos(3000,300)"
   ]
  },
  {
   "cell_type": "markdown",
   "id": "a2ae77b5",
   "metadata": {},
   "source": [
    "Podemos calcular los estadisticos $\\bar{\\hat{f}}$ y $\\sigma_{\\hat{f}}$ y por lo tanto,la cota inferior $\\bar{f^*}-z_\\alpha\\frac{\\sigma}{\\sqrt{M}}$, que resulta ser"
   ]
  },
  {
   "cell_type": "code",
   "execution_count": 106,
   "id": "6385fa0d",
   "metadata": {},
   "outputs": [
    {
     "data": {
      "text/plain": [
       "-98932.87271568403"
      ]
     },
     "execution_count": 106,
     "metadata": {},
     "output_type": "execute_result"
    }
   ],
   "source": [
    "cotainf=mean(opts)-2.57*std(opts)/(300^0.5)"
   ]
  },
  {
   "cell_type": "markdown",
   "id": "e8f87cbd",
   "metadata": {},
   "source": [
    "Por lo tanto, un intervalo de confianza al 98% para la brecha de optimalidad  $c^{T}\\hat{x}+\\mathcal{D}(\\hat{x})-f^*$ sería [0,2868.25]"
   ]
  },
  {
   "cell_type": "code",
   "execution_count": 108,
   "id": "733bcab1",
   "metadata": {},
   "outputs": [
    {
     "data": {
      "text/plain": [
       "2868.251816035161"
      ]
     },
     "execution_count": 108,
     "metadata": {},
     "output_type": "execute_result"
    }
   ],
   "source": [
    "cotaSup-cotainf"
   ]
  },
  {
   "cell_type": "markdown",
   "id": "3c3793b2",
   "metadata": {},
   "source": [
    "Si cambiamos los parámetros por $n=4000,N=16000,M=500$"
   ]
  },
  {
   "cell_type": "code",
   "execution_count": 112,
   "id": "eedf5bde",
   "metadata": {},
   "outputs": [
    {
     "data": {
      "text/plain": [
       "construir_intervalo (generic function with 1 method)"
      ]
     },
     "execution_count": 112,
     "metadata": {},
     "output_type": "execute_result"
    }
   ],
   "source": [
    "function construir_intervalo(n,N,M,c,A,b,W)\n",
    "    Ts,qs,probs,hs=generar_muestra(n)\n",
    "    xhat,obj=forma_extendida(c,A,b,W,hs,qs,Ts,probs)\n",
    "    Ts,qs,probs,hs=generar_muestra(N);\n",
    "    Qs=calcular_Qs(xhat,c,W,hs,qs,Ts);\n",
    "    cotaSup=sum(c.*xhat)+mean(Qs)+(2.57*(std(Qs))/(N^0.5))\n",
    "    opts=muestrear_optimos(n,M)\n",
    "    cotainf=mean(opts)-2.57*std(opts)/(M^0.5)\n",
    "    return xhat,cotaSup,cotainf,cotaSup-cotainf\n",
    "end"
   ]
  },
  {
   "cell_type": "code",
   "execution_count": 114,
   "id": "389443bf",
   "metadata": {},
   "outputs": [
    {
     "data": {
      "text/plain": [
       "([198.18196765811535, 82.41876848367197, 219.3992638582098], -98709.72191841621, -98916.59558909627, 206.8736706800555)"
      ]
     },
     "execution_count": 114,
     "metadata": {},
     "output_type": "execute_result"
    }
   ],
   "source": [
    "xhat,cotaSup,cotainf,maxInter=construir_intervalo(4000,16000,500,c,A,b,W)"
   ]
  },
  {
   "cell_type": "markdown",
   "id": "b0a2f62a",
   "metadata": {},
   "source": [
    "entonces el intervalo de confianza sería $[0,206.87]$ que es mejor que el que se obtuvo anteriormente. Incrementar estos valores de $n,N,M$ no sería práctico, pues el cálculo toma aproximadamente 5 minutos con estos parámetros y cada minuto de computo emite aproximadente 1 g de CO2 a la atmosfera por la energía necesaría para ejecutarlo."
   ]
  },
  {
   "cell_type": "markdown",
   "id": "093f1c57",
   "metadata": {},
   "source": [
    "# Conclusiones"
   ]
  },
  {
   "cell_type": "markdown",
   "id": "41d23059",
   "metadata": {},
   "source": [
    "- Los métodos L-shape y L-shape multicorte son maneras efectivas de resolver problemas de 2 etapas, aún cuando la implementación no es la mejor, proporcionan tiempos de computo aceptables para problemas pequeños.\n",
    "- Los métodos de descenso de gradiente proyectado no son tan buenos en esta situación por la naturaleza del óptimo a encontrar. No proporcionan la precisión necesaria en las soluciones, ni son eficientes computacionalmente. Sin embargo, siguen siendo robustos y podrían implementarse para obtener soluciones aproximadas en problemas más dificiles.\n",
    "- Resolver el sistema directamente a veces puede ser buena idea, mientras el tamaño del problema lo permita. Esto ya que se está usando el código altamente eficiente que existe para resolver problemas de programación lineal y se evitan deficiencias en la implementación propia.\n",
    "- Se pueden establecer intervalos de confiana para soluciones óptimas de problemas con incertidumbre continua mediante muestreo."
   ]
  }
 ],
 "metadata": {
  "kernelspec": {
   "display_name": "Julia 1.8.1",
   "language": "julia",
   "name": "julia-1.8"
  },
  "language_info": {
   "file_extension": ".jl",
   "mimetype": "application/julia",
   "name": "julia",
   "version": "1.8.1"
  }
 },
 "nbformat": 4,
 "nbformat_minor": 5
}
