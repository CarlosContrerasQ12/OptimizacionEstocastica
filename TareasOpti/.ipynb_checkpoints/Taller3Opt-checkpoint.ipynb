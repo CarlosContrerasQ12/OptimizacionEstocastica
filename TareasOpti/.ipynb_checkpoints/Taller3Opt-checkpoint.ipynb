{
 "cells": [
  {
   "cell_type": "markdown",
   "id": "6de169c3",
   "metadata": {},
   "source": [
    "# Taller 3"
   ]
  },
  {
   "cell_type": "markdown",
   "id": "12c6e711",
   "metadata": {},
   "source": [
    "Considere un puente que se va deteriorando con el paso del tiempo. Asuma que el estado del puente se puede\n",
    "clasificar en 4 estados {1, 2, 3, 4} donde 1 indica que el puente está en óptimas condiciones y 4 en muy mal estado.\n",
    "Para intervenir el puente se consideran 3 acciones {1, 2, 3} donde 1 es un mantenimiento de rutina y 3 es un arreglo\n",
    "estructural profundo. La dinámica del sistema es entonces la siguiente:"
   ]
  },
  {
   "cell_type": "markdown",
   "id": "3097b731",
   "metadata": {},
   "source": [
    "![title](Trans.png)"
   ]
  },
  {
   "cell_type": "markdown",
   "id": "51334515",
   "metadata": {},
   "source": [
    "Finalmente, asuma que los costos de las intervenciones son independientes del estado del puente y son de 1, 4, 10\n",
    "respectivamente."
   ]
  },
  {
   "cell_type": "markdown",
   "id": "c29dbccf",
   "metadata": {},
   "source": [
    "## Punto 1"
   ]
  },
  {
   "cell_type": "markdown",
   "id": "7a191c4b",
   "metadata": {},
   "source": [
    "Para verificar que el modelo es unitario construyamos las matrices de transición asociadas a cada política estacionaria determinista posible. De estas hay $3^4$ posibles. Como son pocas, podemos verificar que todas las matrices de transición poseen solo una clase recurrente."
   ]
  },
  {
   "cell_type": "code",
   "execution_count": 1,
   "id": "5800db6d",
   "metadata": {},
   "outputs": [
    {
     "data": {
      "text/plain": [
       "p (generic function with 1 method)"
      ]
     },
     "execution_count": 1,
     "metadata": {},
     "output_type": "execute_result"
    }
   ],
   "source": [
    "const P1=[0.1 0.6 0.2 0.1;0.8 0.2 0.0 0.0; 0.95 0.05 0.0 0.0]\n",
    "const P2=[0.0 0.1 0.6 0.3;0.7 0.2 0.1 0.0; 0.85 0.1 0.05 0.0]\n",
    "const P3=[0.0 0.0 0.2 0.8;0.3 0.4 0.2 0.1; 0.65 0.2 0.1 0.05]\n",
    "const P4=[0.0 0.0 0.0 1.0;0 0.6 0.2 0.2; 0.5 0.5 0.0 0.0]\n",
    "\n",
    "function p(j,s,a)\n",
    "    if s==1\n",
    "        return P1[a,j]\n",
    "    elseif s==2\n",
    "        return P2[a,j]\n",
    "    elseif s==3\n",
    "        return P3[a,j]\n",
    "    elseif s==4\n",
    "        return P4[a,j]\n",
    "    else\n",
    "        return 0.0\n",
    "    end\n",
    "\n",
    "end    "
   ]
  },
  {
   "cell_type": "code",
   "execution_count": 2,
   "id": "37e05618",
   "metadata": {},
   "outputs": [
    {
     "data": {
      "text/plain": [
       "construir_matriz (generic function with 1 method)"
      ]
     },
     "execution_count": 2,
     "metadata": {},
     "output_type": "execute_result"
    }
   ],
   "source": [
    "function construir_matriz(a,S)\n",
    "    A=zeros(length(S),length(S))\n",
    "    for i in 1:length(S)\n",
    "        for j in 1:length(S)\n",
    "            A[j,i]=p(S[i],S[j],a[j])\n",
    "        end\n",
    "    end\n",
    "    return A\n",
    "end"
   ]
  },
  {
   "cell_type": "code",
   "execution_count": 3,
   "id": "233907bb",
   "metadata": {},
   "outputs": [],
   "source": [
    "using DiscreteMarkovChains"
   ]
  },
  {
   "cell_type": "markdown",
   "id": "6f7aad2b",
   "metadata": {},
   "source": [
    "Veamos ahora cuales son las clases recurrentes de todas las posibles políticas estacionarias. La función de la libreria evalua la recurrencia de las clases en el vector booleano. Nunca hay más de un true, por lo que nunca hay más de una clase recurrente, esto es, el modelo es unichain."
   ]
  },
  {
   "cell_type": "code",
   "execution_count": 4,
   "id": "885744c4",
   "metadata": {},
   "outputs": [
    {
     "name": "stdout",
     "output_type": "stream",
     "text": [
      "1 politica: (1, 1, 1, 1) clases: ([[4], [3], [2], [1]], Any[true, false, false, false], Any[1, 1, 1, 1])\n",
      "2 politica: (2, 1, 1, 1) clases: ([[4], [3], [2], [1]], Any[true, false, false, false], Any[1, 1, 1, 1])\n",
      "3 politica: (3, 1, 1, 1) clases: ([[4], [3], [2], [1]], Any[true, false, false, false], Any[1, 1, 1, 1])\n",
      "4 politica: (1, 2, 1, 1) clases: ([[4], [3], [1, 2]], Any[true, false, false], Any[1, 1, 1])\n",
      "5 politica: (2, 2, 1, 1) clases: ([[4], [3], [1, 2]], Any[true, false, false], Any[1, 1, 1])\n",
      "6 politica: (3, 2, 1, 1) clases: ([[4], [3], [1, 2]], Any[true, false, false], Any[1, 1, 1])\n",
      "7 politica: (1, 3, 1, 1) clases: ([[4], [3], [1, 2]], Any[true, false, false], Any[1, 1, 1])\n",
      "8 politica: (2, 3, 1, 1) clases: ([[4], [3], [1, 2]], Any[true, false, false], Any[1, 1, 1])\n",
      "9 politica: (3, 3, 1, 1) clases: ([[4], [3], [1, 2]], Any[true, false, false], Any[1, 1, 1])\n",
      "10 politica: (1, 1, 2, 1) clases: ([[4], [1, 2, 3]], Any[true, false], Any[1, 1])\n",
      "11 politica: (2, 1, 2, 1) clases: ([[4], [1, 2, 3]], Any[true, false], Any[1, 1])\n",
      "12 politica: (3, 1, 2, 1) clases: ([[4], [1, 2, 3]], Any[true, false], Any[1, 1])\n",
      "13 politica: (1, 2, 2, 1) clases: ([[4], [1, 2, 3]], Any[true, false], Any[1, 1])\n",
      "14 politica: (2, 2, 2, 1) clases: ([[4], [1, 2, 3]], Any[true, false], Any[1, 1])\n",
      "15 politica: (3, 2, 2, 1) clases: ([[4], [1, 2, 3]], Any[true, false], Any[1, 1])\n",
      "16 politica: (1, 3, 2, 1) clases: ([[4], [1, 2, 3]], Any[true, false], Any[1, 1])\n",
      "17 politica: (2, 3, 2, 1) clases: ([[4], [1, 2, 3]], Any[true, false], Any[1, 1])\n",
      "18 politica: (3, 3, 2, 1) clases: ([[4], [1, 2, 3]], Any[true, false], Any[1, 1])\n",
      "19 politica: (1, 1, 3, 1) clases: ([[4], [1, 2, 3]], Any[true, false], Any[1, 1])\n",
      "20 politica: (2, 1, 3, 1) clases: ([[4], [1, 2, 3]], Any[true, false], Any[1, 1])\n",
      "21 politica: (3, 1, 3, 1) clases: ([[4], [1, 2, 3]], Any[true, false], Any[1, 1])\n",
      "22 politica: (1, 2, 3, 1) clases: ([[4], [1, 2, 3]], Any[true, false], Any[1, 1])\n",
      "23 politica: (2, 2, 3, 1) clases: ([[4], [1, 2, 3]], Any[true, false], Any[1, 1])\n",
      "24 politica: (3, 2, 3, 1) clases: ([[4], [1, 2, 3]], Any[true, false], Any[1, 1])\n",
      "25 politica: (1, 3, 3, 1) clases: ([[4], [1, 2, 3]], Any[true, false], Any[1, 1])\n",
      "26 politica: (2, 3, 3, 1) clases: ([[4], [1, 2, 3]], Any[true, false], Any[1, 1])\n",
      "27 politica: (3, 3, 3, 1) clases: ([[4], [1, 2, 3]], Any[true, false], Any[1, 1])\n",
      "28 politica: (1, 1, 1, 2) clases: ([[2, 3, 4], [1]], Any[true, false], Any[1, 1])\n",
      "29 politica: (2, 1, 1, 2) clases: ([[2, 3, 4], [1]], Any[true, false], Any[1, 1])\n",
      "30 politica: (3, 1, 1, 2) clases: ([[2, 3, 4], [1]], Any[true, false], Any[1, 1])\n",
      "31 politica: (1, 2, 1, 2) clases: ([[1, 2, 3, 4]], Any[true], Any[1])\n",
      "32 politica: (2, 2, 1, 2) clases: ([[1, 2, 3, 4]], Any[true], Any[1])\n",
      "33 politica: (3, 2, 1, 2) clases: ([[1, 2, 3, 4]], Any[true], Any[1])\n",
      "34 politica: (1, 3, 1, 2) clases: ([[1, 2, 3, 4]], Any[true], Any[1])\n",
      "35 politica: (2, 3, 1, 2) clases: ([[1, 2, 3, 4]], Any[true], Any[1])\n",
      "36 politica: (3, 3, 1, 2) clases: ([[1, 2, 3, 4]], Any[true], Any[1])\n",
      "37 politica: (1, 1, 2, 2) clases: ([[1, 2, 3, 4]], Any[true], Any[1])\n",
      "38 politica: (2, 1, 2, 2) clases: ([[1, 2, 3, 4]], Any[true], Any[1])\n",
      "39 politica: (3, 1, 2, 2) clases: ([[1, 2, 3, 4]], Any[true], Any[1])\n",
      "40 politica: (1, 2, 2, 2) clases: ([[1, 2, 3, 4]], Any[true], Any[1])\n",
      "41 politica: (2, 2, 2, 2) clases: ([[1, 2, 3, 4]], Any[true], Any[1])\n",
      "42 politica: (3, 2, 2, 2) clases: ([[1, 2, 3, 4]], Any[true], Any[1])\n",
      "43 politica: (1, 3, 2, 2) clases: ([[1, 2, 3, 4]], Any[true], Any[1])\n",
      "44 politica: (2, 3, 2, 2) clases: ([[1, 2, 3, 4]], Any[true], Any[1])\n",
      "45 politica: (3, 3, 2, 2) clases: ([[1, 2, 3, 4]], Any[true], Any[1])\n",
      "46 politica: (1, 1, 3, 2) clases: ([[1, 2, 3, 4]], Any[true], Any[1])\n",
      "47 politica: (2, 1, 3, 2) clases: ([[1, 2, 3, 4]], Any[true], Any[1])\n",
      "48 politica: (3, 1, 3, 2) clases: ([[1, 2, 3, 4]], Any[true], Any[1])\n",
      "49 politica: (1, 2, 3, 2) clases: ([[1, 2, 3, 4]], Any[true], Any[1])\n",
      "50 politica: (2, 2, 3, 2) clases: ([[1, 2, 3, 4]], Any[true], Any[1])\n",
      "51 politica: (3, 2, 3, 2) clases: ([[1, 2, 3, 4]], Any[true], Any[1])\n",
      "52 politica: (1, 3, 3, 2) clases: ([[1, 2, 3, 4]], Any[true], Any[1])\n",
      "53 politica: (2, 3, 3, 2) clases: ([[1, 2, 3, 4]], Any[true], Any[1])\n",
      "54 politica: (3, 3, 3, 2) clases: ([[1, 2, 3, 4]], Any[true], Any[1])\n",
      "55 politica: (1, 1, 1, 3) clases: ([[1, 2, 3, 4]], Any[true], Any[1])\n",
      "56 politica: (2, 1, 1, 3) clases: ([[1, 2, 3, 4]], Any[true], Any[1])\n",
      "57 politica: (3, 1, 1, 3) clases: ([[1, 2, 3, 4]], Any[true], Any[1])\n",
      "58 politica: (1, 2, 1, 3) clases: ([[1, 2, 3, 4]], Any[true], Any[1])\n",
      "59 politica: (2, 2, 1, 3) clases: ([[1, 2, 3, 4]], Any[true], Any[1])\n",
      "60 politica: (3, 2, 1, 3) clases: ([[1, 2, 3, 4]], Any[true], Any[1])\n",
      "61 politica: (1, 3, 1, 3) clases: ([[1, 2, 3, 4]], Any[true], Any[1])\n",
      "62 politica: (2, 3, 1, 3) clases: ([[1, 2, 3, 4]], Any[true], Any[1])\n",
      "63 politica: (3, 3, 1, 3) clases: ([[1, 2, 3, 4]], Any[true], Any[1])\n",
      "64 politica: (1, 1, 2, 3) clases: ([[1, 2, 3, 4]], Any[true], Any[1])\n",
      "65 politica: (2, 1, 2, 3) clases: ([[1, 2, 3, 4]], Any[true], Any[1])\n",
      "66 politica: (3, 1, 2, 3) clases: ([[1, 2, 3, 4]], Any[true], Any[1])\n",
      "67 politica: (1, 2, 2, 3) clases: ([[1, 2, 3, 4]], Any[true], Any[1])\n",
      "68 politica: (2, 2, 2, 3) clases: ([[1, 2, 3, 4]], Any[true], Any[1])\n",
      "69 politica: (3, 2, 2, 3) clases: ([[1, 2, 3, 4]], Any[true], Any[1])\n",
      "70 politica: (1, 3, 2, 3) clases: ([[1, 2, 3, 4]], Any[true], Any[1])\n",
      "71 politica: (2, 3, 2, 3) clases: ([[1, 2, 3, 4]], Any[true], Any[1])\n",
      "72 politica: (3, 3, 2, 3) clases: ([[1, 2, 3, 4]], Any[true], Any[1])\n",
      "73 politica: (1, 1, 3, 3) clases: ([[1, 2, 3, 4]], Any[true], Any[1])\n",
      "74 politica: (2, 1, 3, 3) clases: ([[1, 2, 3, 4]], Any[true], Any[1])\n",
      "75 politica: (3, 1, 3, 3) clases: ([[1, 2, 3, 4]], Any[true], Any[1])\n",
      "76 politica: (1, 2, 3, 3) clases: ([[1, 2, 3, 4]], Any[true], Any[1])\n",
      "77 politica: (2, 2, 3, 3) clases: ([[1, 2, 3, 4]], Any[true], Any[1])\n",
      "78 politica: (3, 2, 3, 3) clases: ([[1, 2, 3, 4]], Any[true], Any[1])\n",
      "79 politica: (1, 3, 3, 3) clases: ([[1, 2, 3, 4]], Any[true], Any[1])\n",
      "80 politica: (2, 3, 3, 3) clases: ([[1, 2, 3, 4]], Any[true], Any[1])\n",
      "81 politica: (3, 3, 3, 3) clases: ([[1, 2, 3, 4]], Any[true], Any[1])\n"
     ]
    }
   ],
   "source": [
    "matrices=[]\n",
    "politicas=[]\n",
    "for (i,a) in enumerate(Iterators.product(1:3, 1:3,1:3,1:3))\n",
    "    mat=construir_matriz(a,1:4)\n",
    "    append!(matrices,[mat])\n",
    "    append!(politicas,[a])\n",
    "    chain = DiscreteMarkovChain(mat)  \n",
    "    println(i,\" politica: \",a,\" clases: \",periodicities(chain))\n",
    "end"
   ]
  },
  {
   "cell_type": "markdown",
   "id": "08edb480",
   "metadata": {},
   "source": [
    "Para evitar que el modelo fuera unichain sería suficiente considerar un estado adicional de \"puente mal construido\", el cual solo puede ocurrir si fue mal construido en un principio y la unica acción posible para este estado es \"nada\". Así, partiendo de los estados normales no se puede llegar a estado y de este estado no se puede llegar a los anteriores. Esto haría que se tuvieran dos clases recurrentes."
   ]
  },
  {
   "cell_type": "markdown",
   "id": "2d485d02",
   "metadata": {},
   "source": [
    "## Punto 2"
   ]
  },
  {
   "cell_type": "markdown",
   "id": "8ffd3216",
   "metadata": {},
   "source": [
    "Definamos el ingreso $p(s)$ por mantener el puente en estado $s$ como\n",
    "\\begin{equation}\n",
    "    p(s)=\\begin{cases}\n",
    "        10 & \\text{if } s=0\\\\\n",
    "        5 & \\text{if } s=1\\\\\n",
    "        2 & \\text{if } s=2\\\\\n",
    "        0 & \\text{if } s=3\\\\\n",
    "    \\end{cases}\n",
    "\\end{equation}"
   ]
  },
  {
   "cell_type": "code",
   "execution_count": 24,
   "id": "bfdea051",
   "metadata": {},
   "outputs": [
    {
     "data": {
      "text/plain": [
       "construir_r (generic function with 1 method)"
      ]
     },
     "execution_count": 24,
     "metadata": {},
     "output_type": "execute_result"
    }
   ],
   "source": [
    "function p_rec(s)\n",
    "    if s==1\n",
    "        return 10.0\n",
    "    elseif s==2\n",
    "        return 5.0\n",
    "    elseif s==3\n",
    "        return -1.0\n",
    "    else s==4\n",
    "        return -10.0\n",
    "    end\n",
    "end\n",
    "\n",
    "function r1(sig,s,a)\n",
    "    reca=p_rec(sig)\n",
    "    if a==1\n",
    "        reca=reca-1\n",
    "    elseif a==2\n",
    "        reca=reca-4\n",
    "    elseif a==3\n",
    "        reca=reca-10\n",
    "    end\n",
    "    return reca\n",
    "end \n",
    "\n",
    "function r_exp(s,a,rec,S,A)\n",
    "    suma=0.0\n",
    "    for i in S\n",
    "        suma+=p(i,s,a)*rec(i,s,a)\n",
    "    end\n",
    "    return suma \n",
    "end\n",
    "\n",
    "function construir_r(rec,a,S,A)\n",
    "    r=Float64[]\n",
    "    for (i,s) in enumerate(S)\n",
    "        append!(r,r_exp(s,a[i],rec,S,A))\n",
    "    end    \n",
    "    return r\n",
    "end"
   ]
  },
  {
   "cell_type": "markdown",
   "id": "b7713f27",
   "metadata": {},
   "source": [
    "Ahora implementemos el método de iteración por política para el proceso con recompensa promedio de largo plazo."
   ]
  },
  {
   "cell_type": "code",
   "execution_count": 6,
   "id": "6dcf7735",
   "metadata": {},
   "outputs": [],
   "source": [
    "using LinearAlgebra"
   ]
  },
  {
   "cell_type": "code",
   "execution_count": 7,
   "id": "0832f12d",
   "metadata": {},
   "outputs": [
    {
     "data": {
      "text/plain": [
       "iteracion_largo_plazo (generic function with 1 method)"
      ]
     },
     "execution_count": 7,
     "metadata": {},
     "output_type": "execute_result"
    }
   ],
   "source": [
    "function iteracion_largo_plazo(rec,S,A,d0p)\n",
    "    d0=deepcopy(d0p)\n",
    "    d1=deepcopy(d0p)\n",
    "    seguir=true\n",
    "    g=0.0\n",
    "    h=zeros(length(S))\n",
    "    while seguir\n",
    "        println(d1)\n",
    "        Pd=construir_matriz(d1,S)\n",
    "        Q=I(length(S))-Pd\n",
    "        Q[:,1].=1\n",
    "        r=construir_r(rec,d1,S,A)\n",
    "        h=Q\\r\n",
    "        g=copy(h[1])\n",
    "        h[1]=0\n",
    "        anew=deepcopy(d1)\n",
    "        Pdh=Pd*h\n",
    "        for (i,s) in enumerate(S)\n",
    "            val=[r_exp(s,a,rec,S,A)+Pdh[i] for a in A[i]]\n",
    "            anew[i]=A[i][argmax(val)]\n",
    "        end\n",
    "        d0=deepcopy(d1)\n",
    "        d1=deepcopy(anew)\n",
    "        if d1==d0\n",
    "            seguir=false\n",
    "        end\n",
    "    end\n",
    "    return g,h,d1\n",
    "end"
   ]
  },
  {
   "cell_type": "code",
   "execution_count": 8,
   "id": "f55947a5",
   "metadata": {},
   "outputs": [
    {
     "data": {
      "text/plain": [
       "4-element Vector{Vector{Int64}}:\n",
       " [1, 2, 3]\n",
       " [1, 2, 3]\n",
       " [1, 2, 3]\n",
       " [1, 2, 3]"
      ]
     },
     "execution_count": 8,
     "metadata": {},
     "output_type": "execute_result"
    }
   ],
   "source": [
    "S=[1,2,3,4]\n",
    "A=[[1,2,3],[1,2,3],[1,2,3],[1,2,3]]"
   ]
  },
  {
   "cell_type": "code",
   "execution_count": 26,
   "id": "1b627ca9",
   "metadata": {},
   "outputs": [
    {
     "name": "stdout",
     "output_type": "stream",
     "text": [
      "[1, 1, 1, 1]\n",
      "[2, 2, 2, 3]\n"
     ]
    },
    {
     "data": {
      "text/plain": [
       "(4.620334620334621, [0.0, -1.8983268983269, -7.983268983268985, -8.06949806949807], [2, 2, 2, 3])"
      ]
     },
     "execution_count": 26,
     "metadata": {},
     "output_type": "execute_result"
    }
   ],
   "source": [
    "g,h,polopt=iteracion_largo_plazo(r1,S,A,[1,1,1,1])"
   ]
  },
  {
   "cell_type": "markdown",
   "id": "f7ae1cac",
   "metadata": {},
   "source": [
    "La política óptima que se obtuvo fue (2,2,2,3)."
   ]
  },
  {
   "cell_type": "markdown",
   "id": "7a2d330d",
   "metadata": {},
   "source": [
    "## Punto 3"
   ]
  },
  {
   "cell_type": "markdown",
   "id": "ecfe8bc7",
   "metadata": {},
   "source": [
    "Implementemos ahora la iteración por política descontada"
   ]
  },
  {
   "cell_type": "code",
   "execution_count": 10,
   "id": "79dacaee",
   "metadata": {},
   "outputs": [
    {
     "data": {
      "text/plain": [
       "iteracion_descontada (generic function with 1 method)"
      ]
     },
     "execution_count": 10,
     "metadata": {},
     "output_type": "execute_result"
    }
   ],
   "source": [
    "function iteracion_descontada(λ,d0p,rec,S,A)\n",
    "    d0=deepcopy(d0p)\n",
    "    d1=deepcopy(d0p)\n",
    "    seguir=true\n",
    "    while seguir\n",
    "        Pd=construir_matriz(d1,S)\n",
    "        Q=I(length(S))-λ*Pd\n",
    "        r=construir_r(rec,d1,S,A)\n",
    "        v=Q\\r\n",
    "        pnew=deepcopy(d1)\n",
    "        Pdv=Pd*v\n",
    "        for (i,s) in enumerate(S)\n",
    "            val=[r_exp(s,a,rec,S,A)+λ*Pdv[i] for a in A[i]]\n",
    "            pnew[i]=A[i][argmax(val)]\n",
    "        end\n",
    "        d0=deepcopy(d1)\n",
    "        d1=deepcopy(pnew)\n",
    "        if d1==d0\n",
    "            seguir=false\n",
    "        end\n",
    "    end\n",
    "    return d1\n",
    "end"
   ]
  },
  {
   "cell_type": "code",
   "execution_count": 27,
   "id": "176e93ba",
   "metadata": {},
   "outputs": [
    {
     "data": {
      "text/plain": [
       "4-element Vector{Int64}:\n",
       " 2\n",
       " 2\n",
       " 2\n",
       " 3"
      ]
     },
     "execution_count": 27,
     "metadata": {},
     "output_type": "execute_result"
    }
   ],
   "source": [
    "pol=iteracion_descontada(0.9,[1,1,1,1],r1,S,A)"
   ]
  },
  {
   "cell_type": "markdown",
   "id": "703013ff",
   "metadata": {},
   "source": [
    "Vemos que con $\\lambda=0.9$ obtenemos la misma política óptima estacionaria (2,2,2,3)."
   ]
  },
  {
   "cell_type": "markdown",
   "id": "aa2272bf",
   "metadata": {},
   "source": [
    "## Punto 4 "
   ]
  },
  {
   "cell_type": "markdown",
   "id": "a0f58fd6",
   "metadata": {},
   "source": [
    "Ahora, para maximizar la recompensa promedio esperada a largo plazo sujeto a no estar más del 10% del tiempo en el estado 4 usamos programación lineal."
   ]
  },
  {
   "cell_type": "markdown",
   "id": "2ceb60ea",
   "metadata": {},
   "source": [
    "Para un problema sin restricciones el problema dual que hay resolver para obtener las medidas de ocupación es"
   ]
  },
  {
   "cell_type": "markdown",
   "id": "981377b0",
   "metadata": {},
   "source": [
    "\\begin{equation}\n",
    "\\begin{split}\n",
    "\\text{max } &\\sum_{s,a}r(s,a)x(s,a)\\\\\n",
    "\\sum_{a\\in A_s}x(j,a)-&\\sum_{s,a}p(j|s,a)x(s,a)=0, \\quad j \\in S\\\\\n",
    "&\\sum_{s,a}x(s,a)=1\\\\\n",
    "&x(s,a)\\geq 0 \\quad s\\in S \\quad a\\in A_s \n",
    "\\end{split}\n",
    "\\end{equation}"
   ]
  },
  {
   "cell_type": "markdown",
   "id": "c5412093",
   "metadata": {},
   "source": [
    "En este caso, las variables duales $x(s,a)$ se pueden interpretar como la probabilidad limite de encontrarse en el estado $s$ y escoger la acción $a$ con la política aleatoria definida por"
   ]
  },
  {
   "cell_type": "markdown",
   "id": "53585b1b",
   "metadata": {},
   "source": [
    "\\begin{equation}\n",
    "q_{d(s)}(a)=\\frac{x(s,a)}{\\sum_{a'}x(s,a')}\n",
    "\\end{equation}"
   ]
  },
  {
   "cell_type": "markdown",
   "id": "a2717b76",
   "metadata": {},
   "source": [
    "Así, para modelar la restricción propuesta, se añade la restricción adicional"
   ]
  },
  {
   "cell_type": "markdown",
   "id": "bc5dc6a8",
   "metadata": {},
   "source": [
    "\\begin{equation}\n",
    "\\sum_{a}x(4,a)\\leq 0.1\n",
    "\\end{equation}"
   ]
  },
  {
   "cell_type": "markdown",
   "id": "9dae63ef",
   "metadata": {},
   "source": [
    "Ahora implementemoslo"
   ]
  },
  {
   "cell_type": "code",
   "execution_count": 46,
   "id": "5777e3f0",
   "metadata": {},
   "outputs": [],
   "source": [
    "using JuMP\n",
    "using Clp"
   ]
  },
  {
   "cell_type": "code",
   "execution_count": 32,
   "id": "7860fa90",
   "metadata": {},
   "outputs": [
    {
     "data": {
      "text/plain": [
       "r2 (generic function with 1 method)"
      ]
     },
     "execution_count": 32,
     "metadata": {},
     "output_type": "execute_result"
    }
   ],
   "source": [
    "function r2(sig,s,a)\n",
    "    reca=0\n",
    "    if a==1\n",
    "        reca=reca-1\n",
    "    elseif a==2\n",
    "        reca=reca-4\n",
    "    elseif a==3\n",
    "        reca=reca-10\n",
    "    end\n",
    "    return reca\n",
    "end "
   ]
  },
  {
   "cell_type": "code",
   "execution_count": 47,
   "id": "ae69d870",
   "metadata": {},
   "outputs": [
    {
     "data": {
      "text/plain": [
       "linear_programming (generic function with 1 method)"
      ]
     },
     "execution_count": 47,
     "metadata": {},
     "output_type": "execute_result"
    }
   ],
   "source": [
    "function linear_programming(S,A,rec)\n",
    "    model = Model(Clp.Optimizer)\n",
    "    N=length(S)\n",
    "    @variable(model, x[s=1:N,a=1:length(A[s])])\n",
    "    @constraint(model,c[j=1:N],sum(x[j,a] for a in 1:length(A[j]))-sum(p(S[j],S[s],A[s][a])*x[s,a] for s in 1:N for a in 1:length(A[s]))==0)\n",
    "    @constraint(model,cnorm,sum(x[s,a] for s in 1:N for a in 1:length(A[s]))==1.0)\n",
    "    @constraint(model,cpos[s=1:N,a=1:length(A[s])], x[s,a]>=0.0)\n",
    "    @constraint(model,cconst, sum(x[4,a] for a in 1:length(A[4]))<=0.1)\n",
    "    @objective(model, Max, sum(r_exp(S[s],A[s][a],rec,S,A)*x[s,a] for s in 1:N for a in 1:length(A[s])))\n",
    "    println(model)\n",
    "    optimize!(model)\n",
    "    medidas=[]\n",
    "    for i in 1:length(S)\n",
    "        mes=[]\n",
    "        for j in 1:length(A[i])\n",
    "            append!(mes,value(x[i,j]))\n",
    "        end\n",
    "        append!(medidas,[mes])\n",
    "    end\n",
    "    return model,medidas\n",
    "end"
   ]
  },
  {
   "cell_type": "markdown",
   "id": "94fcd3c4",
   "metadata": {},
   "source": [
    "Y resolvamos el problema"
   ]
  },
  {
   "cell_type": "code",
   "execution_count": 48,
   "id": "0d3ec837",
   "metadata": {},
   "outputs": [
    {
     "name": "stdout",
     "output_type": "stream",
     "text": [
      "Max -x[1,1] - 4 x[1,2] - 10 x[1,3] - x[2,1] - 3.9999999999999996 x[2,2] - 10 x[2,3] - x[3,1] - 3.9999999999999996 x[3,2] - 10 x[3,3] - x[4,1] - 4 x[4,2] - 10 x[4,3]\n",
      "Subject to\n",
      " c[1] : 0.9 x[1,1] + 0.19999999999999996 x[1,2] + 0.050000000000000044 x[1,3] - 0.7 x[2,2] - 0.85 x[2,3] - 0.3 x[3,2] - 0.65 x[3,3] - 0.5 x[4,3] = 0.0\n",
      " c[2] : -0.6 x[1,1] - 0.2 x[1,2] - 0.05 x[1,3] + 0.9 x[2,1] + 0.8 x[2,2] + 0.9 x[2,3] - 0.4 x[3,2] - 0.2 x[3,3] - 0.6 x[4,2] - 0.5 x[4,3] = 0.0\n",
      " c[3] : -0.2 x[1,1] - 0.6 x[2,1] - 0.1 x[2,2] - 0.05 x[2,3] + 0.8 x[3,1] + 0.8 x[3,2] + 0.9 x[3,3] - 0.2 x[4,2] = 0.0\n",
      " c[4] : -0.1 x[1,1] - 0.3 x[2,1] - 0.8 x[3,1] - 0.1 x[3,2] - 0.05 x[3,3] + 0.8 x[4,2] + x[4,3] = 0.0\n",
      " cnorm : x[1,1] + x[1,2] + x[1,3] + x[2,1] + x[2,2] + x[2,3] + x[3,1] + x[3,2] + x[3,3] + x[4,1] + x[4,2] + x[4,3] = 1.0\n",
      " cpos[1,1] : x[1,1] ≥ 0.0\n",
      " cpos[1,2] : x[1,2] ≥ 0.0\n",
      " cpos[1,3] : x[1,3] ≥ 0.0\n",
      " cpos[2,1] : x[2,1] ≥ 0.0\n",
      " cpos[2,2] : x[2,2] ≥ 0.0\n",
      " cpos[2,3] : x[2,3] ≥ 0.0\n",
      " cpos[3,1] : x[3,1] ≥ 0.0\n",
      " cpos[3,2] : x[3,2] ≥ 0.0\n",
      " cpos[3,3] : x[3,3] ≥ 0.0\n",
      " cpos[4,1] : x[4,1] ≥ 0.0\n",
      " cpos[4,2] : x[4,2] ≥ 0.0\n",
      " cpos[4,3] : x[4,3] ≥ 0.0\n",
      " cconst : x[4,1] + x[4,2] + x[4,3] ≤ 0.1\n",
      "\n",
      "Coin0506I Presolve 6 (-12) rows, 12 (0) columns and 48 (-12) elements\n",
      "Clp0006I 0  Obj -0 Primal inf 0.999999 (1)\n",
      "Clp0006I 7  Obj -2.8117512\n",
      "Clp0000I Optimal - objective value -2.8117512\n",
      "Coin0511I After Postsolve, objective -2.8117512, infeasibilities - dual 0 (0), primal 0 (0)\n",
      "Clp0032I Optimal objective -2.811751152 - 7 iterations time 0.002, Presolve 0.00\n"
     ]
    }
   ],
   "source": [
    "model,medidas=linear_programming(S,A,r2);"
   ]
  },
  {
   "cell_type": "markdown",
   "id": "3f49ff45",
   "metadata": {},
   "source": [
    "La solucón se obtiene con Cpl y es"
   ]
  },
  {
   "cell_type": "code",
   "execution_count": 50,
   "id": "cdd8844d",
   "metadata": {},
   "outputs": [
    {
     "data": {
      "text/plain": [
       "4-element Vector{Any}:\n",
       " Any[0.2988479262672811, 0.0, 0.0]\n",
       " Any[0.09723502304147469, 0.2944700460829496, 0.0]\n",
       " Any[0.0, 0.20944700460829493, 0.0]\n",
       " Any[0.0, 0.1, 0.0]"
      ]
     },
     "execution_count": 50,
     "metadata": {},
     "output_type": "execute_result"
    }
   ],
   "source": [
    "medidas"
   ]
  },
  {
   "cell_type": "markdown",
   "id": "305532b5",
   "metadata": {},
   "source": [
    "que corresponde a una política markoviana aleatoria."
   ]
  },
  {
   "cell_type": "markdown",
   "id": "4873b419",
   "metadata": {},
   "source": [
    "## Comprobacion"
   ]
  },
  {
   "cell_type": "code",
   "execution_count": 17,
   "id": "c75735e5",
   "metadata": {},
   "outputs": [],
   "source": [
    "using QuantEcon"
   ]
  },
  {
   "cell_type": "code",
   "execution_count": 31,
   "id": "b21d3af7",
   "metadata": {},
   "outputs": [
    {
     "data": {
      "text/plain": [
       "4-element Vector{Float64}:\n",
       " 0.7657657657657657\n",
       " 0.20592020592020593\n",
       " 0.025740025740025745\n",
       " 0.0025740025740025744"
      ]
     },
     "execution_count": 31,
     "metadata": {},
     "output_type": "execute_result"
    }
   ],
   "source": [
    "chain = DiscreteMarkovChain(construir_matriz([2,2,2,3],1:4)) \n",
    "stationary_distribution(chain)"
   ]
  },
  {
   "cell_type": "code",
   "execution_count": 18,
   "id": "891ca65c",
   "metadata": {},
   "outputs": [
    {
     "data": {
      "text/plain": [
       "calcular_esperanza (generic function with 1 method)"
      ]
     },
     "execution_count": 18,
     "metadata": {},
     "output_type": "execute_result"
    }
   ],
   "source": [
    "function calcular_MRP(X,a,rec,S,A)\n",
    "    suma=0.0\n",
    "    l=0.0\n",
    "    for (i,x) in enumerate(X[1:end-1])\n",
    "        suma+=r_exp(x,a[x],rec,S,A)\n",
    "        l+=1.0\n",
    "    end\n",
    "    return suma/l    \n",
    "end\n",
    "\n",
    "function calcular_esperanza(a,rec,S,A)\n",
    "    suma=0.0\n",
    "    l=0.0\n",
    "    chain=QuantEcon.MarkovChain(construir_matriz(a,1:4))\n",
    "    for i in 1:10000\n",
    "        X = simulate(chain, 10_000)\n",
    "        suma+=calcular_MRP(X,a,rec,S,A)\n",
    "        l+=1\n",
    "    end\n",
    "    return suma/l\n",
    "end"
   ]
  },
  {
   "cell_type": "code",
   "execution_count": 19,
   "id": "ab554d14",
   "metadata": {},
   "outputs": [],
   "source": [
    "using PyPlot"
   ]
  },
  {
   "cell_type": "code",
   "execution_count": 20,
   "id": "d8322053",
   "metadata": {},
   "outputs": [
    {
     "data": {
      "image/png": "[encoded data removed]",
      "text/plain": [
       "Figure(PyObject <Figure size 640x480 with 1 Axes>)"
      ]
     },
     "metadata": {},
     "output_type": "display_data"
    },
    {
     "data": {
      "text/plain": [
       "0.116"
      ]
     },
     "execution_count": 20,
     "metadata": {},
     "output_type": "execute_result"
    }
   ],
   "source": [
    "chain=QuantEcon.MarkovChain(construir_matriz([1,1,2,2],1:4))\n",
    "X = simulate(chain, 10_000)\n",
    "y=(cumsum(X.==1)) ./ (1:length(X))\n",
    "plot(y)\n",
    "y[end]"
   ]
  },
  {
   "cell_type": "code",
   "execution_count": 23,
   "id": "d3ce4299",
   "metadata": {},
   "outputs": [
    {
     "data": {
      "text/plain": [
       "0.6842455625562327"
      ]
     },
     "execution_count": 23,
     "metadata": {},
     "output_type": "execute_result"
    }
   ],
   "source": [
    "calcular_esperanza([2,2,3,3],r1,S,A)"
   ]
  },
  {
   "cell_type": "code",
   "execution_count": null,
   "id": "6fc949ab",
   "metadata": {},
   "outputs": [],
   "source": []
  }
 ],
 "metadata": {
  "kernelspec": {
   "display_name": "Julia 1.8.1",
   "language": "julia",
   "name": "julia-1.8"
  },
  "language_info": {
   "file_extension": ".jl",
   "mimetype": "application/julia",
   "name": "julia",
   "version": "1.8.1"
  }
 },
 "nbformat": 4,
 "nbformat_minor": 5
}
